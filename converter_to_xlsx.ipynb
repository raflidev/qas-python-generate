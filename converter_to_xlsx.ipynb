{
 "cells": [
  {
   "cell_type": "code",
   "execution_count": 36,
   "metadata": {},
   "outputs": [],
   "source": [
    "import pandas as pd\n",
    "import csv\n",
    "df = pd.read_csv('file.csv')\n",
    "\n",
    "df_qas = df.iloc[:,[6,7,8]]\n",
    "df_chatgpt = df.iloc[:,[6]]['Q&A by ChatGPT']\n",
    "df_gemini = df.iloc[:,[7]]['Q&A by GEMINI']\n",
    "df_chatgpt_answer = df.iloc[:,[8]]['answers']"
   ]
  },
  {
   "cell_type": "code",
   "execution_count": 37,
   "metadata": {},
   "outputs": [],
   "source": [
    "df_qas = df_qas.dropna()\n",
    "df_chatgpt = df_chatgpt.dropna()\n",
    "df_gemini = df_gemini.dropna()\n",
    "df_chatgpt_answer = df_chatgpt_answer.dropna()"
   ]
  },
  {
   "cell_type": "code",
   "execution_count": 38,
   "metadata": {},
   "outputs": [
    {
     "data": {
      "text/plain": [
       "1     3.2. Kerangka Kebijakan Makro Pembangunan\\nPer...\n",
       "6     Kerangka Kebijakan Agenda Pembangunan\\nKerangk...\n",
       "7     Agenda Pembangunan 1: Memperkuat Ketahanan Eko...\n",
       "8     Pemenuhan Kebutuhan Energi dengan Mengutamakan...\n",
       "9     Peningkatan Kuantitas/Ketahanan Air untuk Mend...\n",
       "10    Peningkatan Ketersediaan, Akses, dan Kualitas ...\n",
       "11    Peningkatan Pengolahan Kemaritiman, Perikanan,...\n",
       "12    Penguatan Kewirausahaan, UMKM, dan Koperasi\\nA...\n",
       "13    Peningkatan Nilai Tambah, Lapangan Kerja dan I...\n",
       "14    Peningkatan Ekspor Bernilai Tambah Tinggi dan ...\n",
       "15    Penguatan Pilar Pertumbuhan Daya Saing\\nDalam ...\n",
       "16    Kebijakan pengembangan wilayah untuk mengurang...\n",
       "17    Agenda Pembangunan 3: Meningkatkan Sumber Daya...\n",
       "18    Agenda Pembangunan 4: Revolusi Mental dan Pemb...\n",
       "19    Agenda Pembangunan 5: Memperkuat Infrastruktur...\n",
       "20    Agenda Pembangunan 6: Membangun Lingkungan Hid...\n",
       "21    Agenda Pembangunan 7: Memperkuat Stabilitas Po...\n",
       "Name: STATEMENT, dtype: object"
      ]
     },
     "execution_count": 38,
     "metadata": {},
     "output_type": "execute_result"
    }
   ],
   "source": [
    "df_context = df.iloc[:,[5]]['STATEMENT']\n",
    "df_context = df_context.dropna()\n",
    "df_context"
   ]
  },
  {
   "cell_type": "code",
   "execution_count": 39,
   "metadata": {},
   "outputs": [],
   "source": [
    "def get_text_between_tanda(text, tanda):\n",
    "    temp = []\n",
    "    for i in text:\n",
    "        text = i.split(tanda)\n",
    "        temp.append(text)\n",
    "    return temp\n",
    "\n",
    "\n",
    "def looping_data(df):\n",
    "    temp = []\n",
    "    for i in range(len(df)):\n",
    "        temp.append(df.iloc[i])\n",
    "    return temp"
   ]
  },
  {
   "cell_type": "code",
   "execution_count": 40,
   "metadata": {},
   "outputs": [],
   "source": [
    "def hapus_item_genap(arr):\n",
    "    return [item for i, item in enumerate(arr) if i % 2 != 0]\n",
    "\n",
    "def hapus_newline(arr):\n",
    "    return [item.replace('\\n', ' ') for item in arr]\n",
    "def hapus_newline_r(arr):\n",
    "    return [item.replace('\\r', ' ') for item in arr]\n",
    "def hapus_bintang(arr):\n",
    "    return [item.replace('*', ' ') for item in arr]"
   ]
  },
  {
   "cell_type": "code",
   "execution_count": 41,
   "metadata": {},
   "outputs": [],
   "source": [
    "def find_answer_indices(context, answer_text):\n",
    "    \"\"\"\n",
    "    Fungsi untuk menemukan indeks posisi awal dan akhir dari teks jawaban dalam konteks.\n",
    "\n",
    "    Parameters:\n",
    "    context (str): Teks konteks di mana jawaban akan dicari.\n",
    "    answer_text (str): Teks jawaban yang akan dicari dalam konteks.\n",
    "\n",
    "    Returns:\n",
    "    tuple: Posisi indeks awal dan akhir dari teks jawaban dalam konteks. Jika jawaban tidak ditemukan, mengembalikan (-1, -1).\n",
    "    \"\"\"\n",
    "    start_index = context.find(answer_text)\n",
    "    if start_index == -1:\n",
    "        return -1, -1  # Jawaban tidak ditemukan dalam konteks\n",
    "    end_index = start_index + len(answer_text)\n",
    "    return start_index, end_index"
   ]
  },
  {
   "cell_type": "code",
   "execution_count": 42,
   "metadata": {},
   "outputs": [],
   "source": [
    "data_gemini = looping_data(df_gemini)\n",
    "split_gemini = get_text_between_tanda(data_gemini, \"**\")\n",
    "gemini_QAS = []\n",
    "for i in range(len(split_gemini)):\n",
    "    split_gemini[i].pop(0)\n",
    "    hasil = hapus_item_genap(split_gemini[i])\n",
    "    hasil = hapus_bintang(hasil)\n",
    "    hasil = hapus_newline(hasil)\n",
    "    hasil = hapus_newline_r(hasil)\n",
    "    gemini_QAS.append([hasil, len(hasil)])\n",
    "\n",
    "pertanyaan = []\n",
    "jawaban = []\n",
    "for i in range(len(gemini_QAS)):\n",
    "    temp_pertanyaan = []\n",
    "    temp_jawaban = []\n",
    "    for j in range(gemini_QAS[i][1]):\n",
    "        if(j % 2 == 0):\n",
    "            temp_pertanyaan.append(gemini_QAS[i][0][j])\n",
    "        else:\n",
    "            temp_jawaban.append(gemini_QAS[i][0][j])\n",
    "    pertanyaan.append(temp_pertanyaan)\n",
    "    jawaban.append(temp_jawaban)\n",
    "\n",
    "context = []\n",
    "for idx, x in enumerate(df_context):\n",
    "    context.append(x)\n",
    "\n",
    "qas = []\n",
    "id = 0\n",
    "for i in range(len(pertanyaan)):\n",
    "    qas_temp = []\n",
    "    for j in range(len(pertanyaan[i])):\n",
    "        start_index, end_index = find_answer_indices(context[i], jawaban[i][j])\n",
    "        dict_list = {} \n",
    "        dict_list[\"id\"] = id\n",
    "        dict_list[\"title\"] = \"Evaluasi Paruh Waktu RPJMN 2020-2024\"\n",
    "        dict_list[\"context\"] = context[i]\n",
    "        dict_list[\"question\"] = pertanyaan[i][j]\n",
    "        dict_list[\"answer\"] = jawaban[i][j]\n",
    "        qas_temp.append(dict_list)\n",
    "        id += 1\n",
    "    qas.append(qas_temp)"
   ]
  },
  {
   "cell_type": "code",
   "execution_count": 43,
   "metadata": {},
   "outputs": [],
   "source": [
    "data_gpt = looping_data(df_chatgpt)\n",
    "split_gpt = get_text_between_tanda(data_gpt, \"**\")\n",
    "\n",
    "gpt_QAS = []\n",
    "for i in range(len(split_gpt)):\n",
    "  split_gpt[i].pop(0)\n",
    "  hasil = hapus_item_genap(split_gpt[i])\n",
    "  hasil = hapus_bintang(hasil)\n",
    "  hasil = hapus_newline(hasil)\n",
    "  hasil = hapus_newline_r(hasil)\n",
    "\n",
    "  gpt_QAS.append([hasil, len(hasil)])\n",
    "# print(gpt_QAS)\n",
    "pertanyaan_gpt = []\n",
    "jawaban_gpt = []\n",
    "\n",
    "for i in range(len(gpt_QAS)):\n",
    "  temp_pertanyaan = []\n",
    "  temp_jawaban = []\n",
    "  for j in range(gpt_QAS[i][1]):\n",
    "    if(j % 2 == 0):\n",
    "      temp_pertanyaan.append(gpt_QAS[i][0][j])\n",
    "    else:\n",
    "      temp_jawaban.append(gpt_QAS[i][0][j])\n",
    "  pertanyaan_gpt.append(temp_pertanyaan)\n",
    "  jawaban_gpt.append(temp_jawaban)\n",
    "\n",
    "for i in range(len(pertanyaan_gpt)):\n",
    "  qas_temp = []\n",
    "  for j in range(len(pertanyaan_gpt[i])):\n",
    "    # print(pertanyaan_gpt[i][j])\n",
    "    dict_list = {}\n",
    "    dict_list['id'] = id\n",
    "    dict_list['title'] = \"Evaluasi Paruh Waktu RPJMN 2020-2024\"\n",
    "    dict_list['context'] = context[i]\n",
    "    dict_list['question'] = pertanyaan_gpt[i][j]\n",
    "    dict_list['answer'] = jawaban_gpt[i][j]\n",
    "    qas_temp.append(dict_list)\n",
    "    id += 1\n",
    "  qas.append(qas_temp)"
   ]
  },
  {
   "cell_type": "code",
   "execution_count": 44,
   "metadata": {},
   "outputs": [],
   "source": [
    "# print(qas[0])"
   ]
  },
  {
   "cell_type": "code",
   "execution_count": 46,
   "metadata": {},
   "outputs": [],
   "source": [
    "# konteks = []\n",
    "# pertanyaan = []\n",
    "\n",
    "# for i in qas:\n",
    "#   konteks.append(i[0]['context'])\n",
    "#   for j in i:\n",
    "#     pertanyaan.append(j['question'])\n",
    "\n",
    "# # to csv\n",
    "# dict_list_konteks = []\n",
    "# dict_list_pertanyaan = []\n",
    "# for i in range(len(konteks)):\n",
    "#   dict_list_konteks.append({'Konteks': konteks[i]})\n",
    "\n",
    "# for i in range(len(pertanyaan)):\n",
    "#   dict_list_pertanyaan.append({'Pertanyaan': pertanyaan[i]})\n",
    "\n",
    "# df_k = pd.DataFrame(dict_list_konteks)\n",
    "# df_k.to_csv('data_k.csv', index=False)\n",
    "\n",
    "# df_p = pd.DataFrame(dict_list_pertanyaan)\n",
    "# df_p.to_csv('data_p.csv', index=False)"
   ]
  },
  {
   "cell_type": "code",
   "execution_count": 59,
   "metadata": {},
   "outputs": [],
   "source": [
    "jsonl = []\n",
    "for i in qas:\n",
    "  for j in i:\n",
    "    if(len(j['question']) > 10):\n",
    "      jsonl.append(j)"
   ]
  },
  {
   "cell_type": "code",
   "execution_count": null,
   "metadata": {},
   "outputs": [],
   "source": []
  },
  {
   "cell_type": "code",
   "execution_count": 48,
   "metadata": {},
   "outputs": [],
   "source": [
    "# # covert to xlsx\n",
    "# df = pd.DataFrame(jsonl)\n",
    "# df.to_excel('output.xlsx', index=False)\n",
    "# print(\"Berhasil convert to xlsx\")"
   ]
  },
  {
   "cell_type": "code",
   "execution_count": 60,
   "metadata": {},
   "outputs": [],
   "source": [
    "# convert to csv\n",
    "df = pd.DataFrame(jsonl)\n",
    "df.to_csv('output.csv', index=False)\n"
   ]
  },
  {
   "cell_type": "code",
   "execution_count": 50,
   "metadata": {},
   "outputs": [],
   "source": [
    "# # convert array to jsonl\n",
    "# import json\n",
    "\n",
    "# with open('data.jsonl', 'w') as outfile:\n",
    "#     for entry in jsonl:\n",
    "#         json.dump(entry, outfile)\n",
    "#         outfile.write('\\n')"
   ]
  }
 ],
 "metadata": {
  "kernelspec": {
   "display_name": "apicta",
   "language": "python",
   "name": "python3"
  },
  "language_info": {
   "codemirror_mode": {
    "name": "ipython",
    "version": 3
   },
   "file_extension": ".py",
   "mimetype": "text/x-python",
   "name": "python",
   "nbconvert_exporter": "python",
   "pygments_lexer": "ipython3",
   "version": "3.7.16"
  }
 },
 "nbformat": 4,
 "nbformat_minor": 2
}
