{
 "cells": [
  {
   "cell_type": "code",
   "execution_count": 56,
   "metadata": {},
   "outputs": [],
   "source": [
    "import pandas as pd\n",
    "import csv\n",
    "df = pd.read_csv('file.csv')\n",
    "\n",
    "df_qas = df.iloc[:,[6,7,8]]\n",
    "df_chatgpt = df.iloc[:,[6]]['Q&A by ChatGPT']\n",
    "df_gemini = df.iloc[:,[7]]['Q&A by GEMINI']\n",
    "df_chatgpt_answer = df.iloc[:,[8]]['answers']"
   ]
  },
  {
   "cell_type": "code",
   "execution_count": 57,
   "metadata": {},
   "outputs": [],
   "source": [
    "df_qas = df_qas.dropna()\n",
    "df_chatgpt = df_chatgpt.dropna()\n",
    "df_gemini = df_gemini.dropna()\n",
    "df_chatgpt_answer = df_chatgpt_answer.dropna()"
   ]
  },
  {
   "cell_type": "code",
   "execution_count": 58,
   "metadata": {},
   "outputs": [
    {
     "data": {
      "text/plain": [
       "1     3.2. Kerangka Kebijakan Makro Pembangunan\\nPer...\n",
       "6     Kerangka Kebijakan Agenda Pembangunan\\nKerangk...\n",
       "7     Agenda Pembangunan 1: Memperkuat Ketahanan Eko...\n",
       "8     Pemenuhan Kebutuhan Energi dengan Mengutamakan...\n",
       "9     Peningkatan Kuantitas/Ketahanan Air untuk Mend...\n",
       "10    Peningkatan Ketersediaan, Akses, dan Kualitas ...\n",
       "11    Peningkatan Pengolahan Kemaritiman, Perikanan,...\n",
       "12    Penguatan Kewirausahaan, UMKM, dan Koperasi\\nA...\n",
       "13    Peningkatan Nilai Tambah, Lapangan Kerja dan I...\n",
       "14    Peningkatan Ekspor Bernilai Tambah Tinggi dan ...\n",
       "15    Penguatan Pilar Pertumbuhan Daya Saing\\nDalam ...\n",
       "16    Kebijakan pengembangan wilayah untuk mengurang...\n",
       "17    Agenda Pembangunan 3: Meningkatkan Sumber Daya...\n",
       "18    Agenda Pembangunan 4: Revolusi Mental dan Pemb...\n",
       "19    Agenda Pembangunan 5: Memperkuat Infrastruktur...\n",
       "20    Agenda Pembangunan 6: Membangun Lingkungan Hid...\n",
       "21    Agenda Pembangunan 7: Memperkuat Stabilitas Po...\n",
       "Name: STATEMENT, dtype: object"
      ]
     },
     "execution_count": 58,
     "metadata": {},
     "output_type": "execute_result"
    }
   ],
   "source": [
    "df_context = df.iloc[:,[5]]['STATEMENT']\n",
    "df_context = df_context.dropna()\n",
    "df_context"
   ]
  },
  {
   "cell_type": "code",
   "execution_count": 59,
   "metadata": {},
   "outputs": [],
   "source": [
    "def get_text_between_tanda(text, tanda):\n",
    "    temp = []\n",
    "    for i in text:\n",
    "        text = i.split(tanda)\n",
    "        temp.append(text)\n",
    "    return temp\n",
    "\n",
    "\n",
    "def looping_data(df):\n",
    "    temp = []\n",
    "    for i in range(len(df)):\n",
    "        temp.append(df.iloc[i])\n",
    "    return temp"
   ]
  },
  {
   "cell_type": "code",
   "execution_count": 60,
   "metadata": {},
   "outputs": [],
   "source": [
    "def hapus_item_genap(arr):\n",
    "    return [item for i, item in enumerate(arr) if i % 2 != 0]\n",
    "\n",
    "def hapus_newline(arr):\n",
    "    return [item.replace('\\n', ' ') for item in arr]\n",
    "def hapus_newline_r(arr):\n",
    "    return [item.replace('\\r', ' ') for item in arr]\n",
    "def hapus_bintang(arr):\n",
    "    return [item.replace('*', ' ') for item in arr]"
   ]
  },
  {
   "cell_type": "code",
   "execution_count": 61,
   "metadata": {},
   "outputs": [],
   "source": [
    "def find_answer_indices(context, answer_text):\n",
    "    \"\"\"\n",
    "    Fungsi untuk menemukan indeks posisi awal dan akhir dari teks jawaban dalam konteks.\n",
    "\n",
    "    Parameters:\n",
    "    context (str): Teks konteks di mana jawaban akan dicari.\n",
    "    answer_text (str): Teks jawaban yang akan dicari dalam konteks.\n",
    "\n",
    "    Returns:\n",
    "    tuple: Posisi indeks awal dan akhir dari teks jawaban dalam konteks. Jika jawaban tidak ditemukan, mengembalikan (-1, -1).\n",
    "    \"\"\"\n",
    "    start_index = context.find(answer_text)\n",
    "    if start_index == -1:\n",
    "        return -1, -1  # Jawaban tidak ditemukan dalam konteks\n",
    "    end_index = start_index + len(answer_text)\n",
    "    return start_index, end_index"
   ]
  },
  {
   "cell_type": "code",
   "execution_count": 62,
   "metadata": {},
   "outputs": [],
   "source": [
    "data_gemini = looping_data(df_gemini)\n",
    "split_gemini = get_text_between_tanda(data_gemini, \"**\")\n",
    "gemini_QAS = []\n",
    "for i in range(len(split_gemini)):\n",
    "    split_gemini[i].pop(0)\n",
    "    hasil = hapus_item_genap(split_gemini[i])\n",
    "    hasil = hapus_bintang(hasil)\n",
    "    hasil = hapus_newline(hasil)\n",
    "    hasil = hapus_newline_r(hasil)\n",
    "    gemini_QAS.append([hasil, len(hasil)])\n",
    "\n",
    "pertanyaan = []\n",
    "jawaban = []\n",
    "for i in range(len(gemini_QAS)):\n",
    "    temp_pertanyaan = []\n",
    "    temp_jawaban = []\n",
    "    for j in range(gemini_QAS[i][1]):\n",
    "        if(j % 2 == 0):\n",
    "            temp_pertanyaan.append(gemini_QAS[i][0][j])\n",
    "        else:\n",
    "            temp_jawaban.append(gemini_QAS[i][0][j])\n",
    "    pertanyaan.append(temp_pertanyaan)\n",
    "    jawaban.append(temp_jawaban)\n",
    "\n",
    "context = []\n",
    "for idx, x in enumerate(df_context):\n",
    "    context.append(x)\n",
    "\n",
    "qas = []\n",
    "id = 0\n",
    "for i in range(len(pertanyaan)):\n",
    "    qas_temp = []\n",
    "    for j in range(len(pertanyaan[i])):\n",
    "        start_index, end_index = find_answer_indices(context[i], jawaban[i][j])\n",
    "        dict_list = {} \n",
    "        dict_list[\"id\"] = id\n",
    "        dict_list[\"title\"] = \"Evaluasi Paruh Waktu RPJMN 2020-2024\"\n",
    "        dict_list[\"context\"] = context[i]\n",
    "        dict_list[\"question\"] = pertanyaan[i][j]\n",
    "        dict_list[\"answer\"] = jawaban[i][j]\n",
    "        qas_temp.append(dict_list)\n",
    "        id += 1\n",
    "    qas.append(qas_temp)"
   ]
  },
  {
   "cell_type": "code",
   "execution_count": 63,
   "metadata": {},
   "outputs": [],
   "source": [
    "data_gpt = looping_data(df_chatgpt)\n",
    "split_gpt = get_text_between_tanda(data_gpt, \"**\")\n",
    "\n",
    "gpt_QAS = []\n",
    "for i in range(len(split_gpt)):\n",
    "  split_gpt[i].pop(0)\n",
    "  hasil = hapus_item_genap(split_gpt[i])\n",
    "  hasil = hapus_bintang(hasil)\n",
    "  hasil = hapus_newline(hasil)\n",
    "  hasil = hapus_newline_r(hasil)\n",
    "\n",
    "  gpt_QAS.append([hasil, len(hasil)])\n",
    "# print(gpt_QAS)\n",
    "pertanyaan_gpt = []\n",
    "jawaban_gpt = []\n",
    "\n",
    "for i in range(len(gpt_QAS)):\n",
    "  temp_pertanyaan = []\n",
    "  temp_jawaban = []\n",
    "  for j in range(gpt_QAS[i][1]):\n",
    "    if(j % 2 == 0):\n",
    "      temp_pertanyaan.append(gpt_QAS[i][0][j])\n",
    "    else:\n",
    "      temp_jawaban.append(gpt_QAS[i][0][j])\n",
    "  pertanyaan_gpt.append(temp_pertanyaan)\n",
    "  jawaban_gpt.append(temp_jawaban)\n",
    "\n",
    "for i in range(len(pertanyaan_gpt)):\n",
    "  qas_temp = []\n",
    "  for j in range(len(pertanyaan_gpt[i])):\n",
    "    # print(pertanyaan_gpt[i][j])\n",
    "    dict_list = {}\n",
    "    dict_list['id'] = id\n",
    "    dict_list['title'] = \"Evaluasi Paruh Waktu RPJMN 2020-2024\"\n",
    "    dict_list['context'] = context[i]\n",
    "    dict_list['question'] = pertanyaan_gpt[i][j]\n",
    "    dict_list['answer'] = jawaban_gpt[i][j]\n",
    "    qas_temp.append(dict_list)\n",
    "    id += 1\n",
    "  qas.append(qas_temp)"
   ]
  },
  {
   "cell_type": "code",
   "execution_count": 64,
   "metadata": {},
   "outputs": [
    {
     "name": "stdout",
     "output_type": "stream",
     "text": [
      "[{'id': 0, 'title': 'Evaluasi Paruh Waktu RPJMN 2020-2024', 'context': '3.2. Kerangka Kebijakan Makro Pembangunan\\nPerbaikan kondisi makro pembangunan merupakan langkah strategis dalam peningkatan kualitas pertumbuhan ekonomi. Upaya meningkatkan pertumbuhan ekonomi menghadapi berbagai tantangan ketidakpastian global. Kebijakan makro pembangunan yang strategis diperlukan untuk menghadapi risiko ketidakpastian global yang mewarnai perkembangan perekonomian dunia yang dapat menghambat pertumbuhan ekonomi dan pencapaian target pembangunan nasional dalam negeri. Risiko ketidakpastian yang semakin meningkat perlu diantisipasi antara lain perang dagang, pandemi COVID-19, konflik geopolitik Rusia-Ukraina, serta pengetatan kebijakan moneter global.\\nSalah satu kunci untuk dapat mencapai pertumbuhan ekonomi yang berkualitas dalam rangka mencapai sasaran pembangunan jangka menengah adalah melalui transformasi struktural. Perbaikan transformasi struktural didorong oleh perkembangan sektor lain melalui transformasi pertanian, hilirisasi pertambangan, pembangunan infrastruktur yang berkelanjutkan, dan transformasi sektor jasa. Oleh karena itu, pertumbuhan ekonomi diharapkan meningkat rata-rata 5,7–6,0 persen per tahun melalui peningkatan produktivitas, investasi yang berkelanjutan, perbaikan pasar tenaga kerja dan peningkatan kualitas sumber daya manusia (SDM).\\nPandemi COVID-19 pada tahun 2020 memberikan tekanan besar terhadap perekonomian global. Selama pelaksanaan pembangunan periode 2020–2024, pandemi COVID-19 yang berdampak besar terhadap perekonomian, sehingga arah kebijakan ekonomi makro pada periode 2022 mengalami beberapa penyesuaian antara lain (1) peningkatan pertumbuhan potensial melalui transformasi struktural untuk peningkatan kesejahteraan, penguatan permintaan domestik, dan peningkatan kinerja perdagangan internasional; (2) penjagaan stabilitas makroekonomi dengan menjaga stabilitas harga, eksternal, dan sektor keuangan; serta (3) memastikan inklusivitas dan keberlanjutan pembangunan ekonomi. Selama masa pandemi COVID-19 pada 2020–2021, arah kebijakan dan strategi makroekonomi difokuskan pada upaya untuk menahan laju pelambatan ekonomi (flattening the recession curve) dengan memberikan kebijakan stimulus fiskal, moneter, dan keuangan untuk mengurangi dampak negatif yang dirasakan pada kelompok rentan dan dunia usaha.\\nPerkembangan pandemi COVID-19 sempat diwarnai kenaikan kasus COVID-19 seiring dengan munculnya berbagai varian. Namun demikian, sejak Februari 2022 jumlah kasus dan tingkat kematian mulai menunjukkan penurunan. Pandemi COVID-19 dan kinerja ekonomi global menunjukkan tren yang membaik. Pada tahun 2021, perekonomian global secara umum mengalami perbaikan setelah terkontraksi pada tahun 2020 yang berhasil tumbuh tinggi sebesar 6,0 persen. Proses pemulihan ekonomi global berlanjut dengan perkiraan pertumbuhan ekonomi global pada tahun 2022 sebesar 3,1 persen. Adapun kinerja ekonomi domestik juga terus menunjukkan perbaikan. Pada tahun 2021 pertumbuhan ekonomi Indonesia mencapai 3,7 persen, angka tersebut jauh di atas pertumbuhan 2020 yang mengalami kontraksi 2,07 persen. Kemudian, perekonomian domestik Indonesia melanjutkan tren pemulihan dengan mampu tumbuh tinggi sebesar 5,3 persen pada tahun 2022 di tengah pelambatan ekonomi global yang dipicu oleh adanya perang Rusia dan Ukraina, tekanan inflasi yang tinggi, serta pengetatan keuangan global.\\nPandemi COVID-19 yang telah mengubah perkembangan serta tantangan ekonomi dan sosial di seluruh dunia. Krisis yang diakibatkan oleh pandemi COVID-19 menjadi momentum untuk memperkuat reformasi dan kestabilan ekonomi untuk meningkatkan produktivitas dan daya saing di tengah tantangan fundamental yang dinamis. Tantangan global juga meluas pada bidang geopolitik, kebijakan perdagangan global, dan isu terkait perubahan iklim sehingga kebijakan makro pembangunan diarahkan untuk dapat mendukung penguatan fundamental ekonomi Indonesia dalam menghadapi berbagai tantangan ke depan. Pemerintah telah mengintegrasikan berbagai kebijakan sasaran makro pembangunan yang tertuang dalam RPJMN 2020–2024 untuk menandai momentum pemulihan ekonomi, di antaranya (1) memperkuat permintaan domestik; (2) diversifikasi ekspor dan stabilitas eksternal; (3) menjaga kesinambungan fiskal dengan merancang instrumen kebijakan fiskal yang lebih produktif, efisien, dan efektif agar mampu mengakselerasi pertumbuhan ekonomi untuk kesejahteraan dan perbaikan neraca keuangan pemerintah; (4) menjaga stabilitas inflasi dan nilai tukar; (5) mengurangi ketimpangan wilayah; (6) memenuhi kebutuhan investasi dan pembiayaan dengan meningkatkan nilai tambah, lapangan kerja, dan investasi di sektor riil dan industrialisasi; serta (7) memperkuat pertumbuhan ekonomi berwawasan lingkungan. Aspek lingkungan merupakan salah satu aspek penting dalam pembangunan ekonomi ke depannya. Perubahan iklim dan menurunnya daya dukung lingkungan dapat berdampak negatif terhadap pencapaian target pertumbuhan ekonomi. Oleh karena itu, pembangunan ke depan diarahkan untuk mempertahankan keseimbangan antara pertumbuhan/ ekonomi, target penurunan dan intensitas emisi, serta kapasitas daya dukung sumber daya alam dan daya tampung lingkungan hidup saat ini dan pada masa yang akan datang.', 'question': ' Apa tantangan utama yang dihadapi dalam mencapai pertumbuhan ekonomi berkualitas di Indonesia?  ', 'answer': ' Tantangan utama meliputi ketidakpastian global seperti perang dagang, pandemi COVID-19, konflik geopolitik, dan pengetatan kebijakan moneter global. Selain itu, transformasi struktural juga diperlukan untuk mendorong pertumbuhan sektor-sektor ekonomi lainnya.  '}, {'id': 1, 'title': 'Evaluasi Paruh Waktu RPJMN 2020-2024', 'context': '3.2. Kerangka Kebijakan Makro Pembangunan\\nPerbaikan kondisi makro pembangunan merupakan langkah strategis dalam peningkatan kualitas pertumbuhan ekonomi. Upaya meningkatkan pertumbuhan ekonomi menghadapi berbagai tantangan ketidakpastian global. Kebijakan makro pembangunan yang strategis diperlukan untuk menghadapi risiko ketidakpastian global yang mewarnai perkembangan perekonomian dunia yang dapat menghambat pertumbuhan ekonomi dan pencapaian target pembangunan nasional dalam negeri. Risiko ketidakpastian yang semakin meningkat perlu diantisipasi antara lain perang dagang, pandemi COVID-19, konflik geopolitik Rusia-Ukraina, serta pengetatan kebijakan moneter global.\\nSalah satu kunci untuk dapat mencapai pertumbuhan ekonomi yang berkualitas dalam rangka mencapai sasaran pembangunan jangka menengah adalah melalui transformasi struktural. Perbaikan transformasi struktural didorong oleh perkembangan sektor lain melalui transformasi pertanian, hilirisasi pertambangan, pembangunan infrastruktur yang berkelanjutkan, dan transformasi sektor jasa. Oleh karena itu, pertumbuhan ekonomi diharapkan meningkat rata-rata 5,7–6,0 persen per tahun melalui peningkatan produktivitas, investasi yang berkelanjutan, perbaikan pasar tenaga kerja dan peningkatan kualitas sumber daya manusia (SDM).\\nPandemi COVID-19 pada tahun 2020 memberikan tekanan besar terhadap perekonomian global. Selama pelaksanaan pembangunan periode 2020–2024, pandemi COVID-19 yang berdampak besar terhadap perekonomian, sehingga arah kebijakan ekonomi makro pada periode 2022 mengalami beberapa penyesuaian antara lain (1) peningkatan pertumbuhan potensial melalui transformasi struktural untuk peningkatan kesejahteraan, penguatan permintaan domestik, dan peningkatan kinerja perdagangan internasional; (2) penjagaan stabilitas makroekonomi dengan menjaga stabilitas harga, eksternal, dan sektor keuangan; serta (3) memastikan inklusivitas dan keberlanjutan pembangunan ekonomi. Selama masa pandemi COVID-19 pada 2020–2021, arah kebijakan dan strategi makroekonomi difokuskan pada upaya untuk menahan laju pelambatan ekonomi (flattening the recession curve) dengan memberikan kebijakan stimulus fiskal, moneter, dan keuangan untuk mengurangi dampak negatif yang dirasakan pada kelompok rentan dan dunia usaha.\\nPerkembangan pandemi COVID-19 sempat diwarnai kenaikan kasus COVID-19 seiring dengan munculnya berbagai varian. Namun demikian, sejak Februari 2022 jumlah kasus dan tingkat kematian mulai menunjukkan penurunan. Pandemi COVID-19 dan kinerja ekonomi global menunjukkan tren yang membaik. Pada tahun 2021, perekonomian global secara umum mengalami perbaikan setelah terkontraksi pada tahun 2020 yang berhasil tumbuh tinggi sebesar 6,0 persen. Proses pemulihan ekonomi global berlanjut dengan perkiraan pertumbuhan ekonomi global pada tahun 2022 sebesar 3,1 persen. Adapun kinerja ekonomi domestik juga terus menunjukkan perbaikan. Pada tahun 2021 pertumbuhan ekonomi Indonesia mencapai 3,7 persen, angka tersebut jauh di atas pertumbuhan 2020 yang mengalami kontraksi 2,07 persen. Kemudian, perekonomian domestik Indonesia melanjutkan tren pemulihan dengan mampu tumbuh tinggi sebesar 5,3 persen pada tahun 2022 di tengah pelambatan ekonomi global yang dipicu oleh adanya perang Rusia dan Ukraina, tekanan inflasi yang tinggi, serta pengetatan keuangan global.\\nPandemi COVID-19 yang telah mengubah perkembangan serta tantangan ekonomi dan sosial di seluruh dunia. Krisis yang diakibatkan oleh pandemi COVID-19 menjadi momentum untuk memperkuat reformasi dan kestabilan ekonomi untuk meningkatkan produktivitas dan daya saing di tengah tantangan fundamental yang dinamis. Tantangan global juga meluas pada bidang geopolitik, kebijakan perdagangan global, dan isu terkait perubahan iklim sehingga kebijakan makro pembangunan diarahkan untuk dapat mendukung penguatan fundamental ekonomi Indonesia dalam menghadapi berbagai tantangan ke depan. Pemerintah telah mengintegrasikan berbagai kebijakan sasaran makro pembangunan yang tertuang dalam RPJMN 2020–2024 untuk menandai momentum pemulihan ekonomi, di antaranya (1) memperkuat permintaan domestik; (2) diversifikasi ekspor dan stabilitas eksternal; (3) menjaga kesinambungan fiskal dengan merancang instrumen kebijakan fiskal yang lebih produktif, efisien, dan efektif agar mampu mengakselerasi pertumbuhan ekonomi untuk kesejahteraan dan perbaikan neraca keuangan pemerintah; (4) menjaga stabilitas inflasi dan nilai tukar; (5) mengurangi ketimpangan wilayah; (6) memenuhi kebutuhan investasi dan pembiayaan dengan meningkatkan nilai tambah, lapangan kerja, dan investasi di sektor riil dan industrialisasi; serta (7) memperkuat pertumbuhan ekonomi berwawasan lingkungan. Aspek lingkungan merupakan salah satu aspek penting dalam pembangunan ekonomi ke depannya. Perubahan iklim dan menurunnya daya dukung lingkungan dapat berdampak negatif terhadap pencapaian target pertumbuhan ekonomi. Oleh karena itu, pembangunan ke depan diarahkan untuk mempertahankan keseimbangan antara pertumbuhan/ ekonomi, target penurunan dan intensitas emisi, serta kapasitas daya dukung sumber daya alam dan daya tampung lingkungan hidup saat ini dan pada masa yang akan datang.', 'question': ' Bagaimana pandemi COVID-19 memengaruhi arah kebijakan ekonomi makro pada periode 2022?  ', 'answer': ' Pandemi COVID-19 menyebabkan penyesuaian arah kebijakan ekonomi makro pada periode 2022, dengan fokus pada peningkatan pertumbuhan potensial melalui transformasi struktural, penjagaan stabilitas makroekonomi, dan memastikan inklusivitas serta keberlanjutan pembangunan ekonomi.  '}, {'id': 2, 'title': 'Evaluasi Paruh Waktu RPJMN 2020-2024', 'context': '3.2. Kerangka Kebijakan Makro Pembangunan\\nPerbaikan kondisi makro pembangunan merupakan langkah strategis dalam peningkatan kualitas pertumbuhan ekonomi. Upaya meningkatkan pertumbuhan ekonomi menghadapi berbagai tantangan ketidakpastian global. Kebijakan makro pembangunan yang strategis diperlukan untuk menghadapi risiko ketidakpastian global yang mewarnai perkembangan perekonomian dunia yang dapat menghambat pertumbuhan ekonomi dan pencapaian target pembangunan nasional dalam negeri. Risiko ketidakpastian yang semakin meningkat perlu diantisipasi antara lain perang dagang, pandemi COVID-19, konflik geopolitik Rusia-Ukraina, serta pengetatan kebijakan moneter global.\\nSalah satu kunci untuk dapat mencapai pertumbuhan ekonomi yang berkualitas dalam rangka mencapai sasaran pembangunan jangka menengah adalah melalui transformasi struktural. Perbaikan transformasi struktural didorong oleh perkembangan sektor lain melalui transformasi pertanian, hilirisasi pertambangan, pembangunan infrastruktur yang berkelanjutkan, dan transformasi sektor jasa. Oleh karena itu, pertumbuhan ekonomi diharapkan meningkat rata-rata 5,7–6,0 persen per tahun melalui peningkatan produktivitas, investasi yang berkelanjutan, perbaikan pasar tenaga kerja dan peningkatan kualitas sumber daya manusia (SDM).\\nPandemi COVID-19 pada tahun 2020 memberikan tekanan besar terhadap perekonomian global. Selama pelaksanaan pembangunan periode 2020–2024, pandemi COVID-19 yang berdampak besar terhadap perekonomian, sehingga arah kebijakan ekonomi makro pada periode 2022 mengalami beberapa penyesuaian antara lain (1) peningkatan pertumbuhan potensial melalui transformasi struktural untuk peningkatan kesejahteraan, penguatan permintaan domestik, dan peningkatan kinerja perdagangan internasional; (2) penjagaan stabilitas makroekonomi dengan menjaga stabilitas harga, eksternal, dan sektor keuangan; serta (3) memastikan inklusivitas dan keberlanjutan pembangunan ekonomi. Selama masa pandemi COVID-19 pada 2020–2021, arah kebijakan dan strategi makroekonomi difokuskan pada upaya untuk menahan laju pelambatan ekonomi (flattening the recession curve) dengan memberikan kebijakan stimulus fiskal, moneter, dan keuangan untuk mengurangi dampak negatif yang dirasakan pada kelompok rentan dan dunia usaha.\\nPerkembangan pandemi COVID-19 sempat diwarnai kenaikan kasus COVID-19 seiring dengan munculnya berbagai varian. Namun demikian, sejak Februari 2022 jumlah kasus dan tingkat kematian mulai menunjukkan penurunan. Pandemi COVID-19 dan kinerja ekonomi global menunjukkan tren yang membaik. Pada tahun 2021, perekonomian global secara umum mengalami perbaikan setelah terkontraksi pada tahun 2020 yang berhasil tumbuh tinggi sebesar 6,0 persen. Proses pemulihan ekonomi global berlanjut dengan perkiraan pertumbuhan ekonomi global pada tahun 2022 sebesar 3,1 persen. Adapun kinerja ekonomi domestik juga terus menunjukkan perbaikan. Pada tahun 2021 pertumbuhan ekonomi Indonesia mencapai 3,7 persen, angka tersebut jauh di atas pertumbuhan 2020 yang mengalami kontraksi 2,07 persen. Kemudian, perekonomian domestik Indonesia melanjutkan tren pemulihan dengan mampu tumbuh tinggi sebesar 5,3 persen pada tahun 2022 di tengah pelambatan ekonomi global yang dipicu oleh adanya perang Rusia dan Ukraina, tekanan inflasi yang tinggi, serta pengetatan keuangan global.\\nPandemi COVID-19 yang telah mengubah perkembangan serta tantangan ekonomi dan sosial di seluruh dunia. Krisis yang diakibatkan oleh pandemi COVID-19 menjadi momentum untuk memperkuat reformasi dan kestabilan ekonomi untuk meningkatkan produktivitas dan daya saing di tengah tantangan fundamental yang dinamis. Tantangan global juga meluas pada bidang geopolitik, kebijakan perdagangan global, dan isu terkait perubahan iklim sehingga kebijakan makro pembangunan diarahkan untuk dapat mendukung penguatan fundamental ekonomi Indonesia dalam menghadapi berbagai tantangan ke depan. Pemerintah telah mengintegrasikan berbagai kebijakan sasaran makro pembangunan yang tertuang dalam RPJMN 2020–2024 untuk menandai momentum pemulihan ekonomi, di antaranya (1) memperkuat permintaan domestik; (2) diversifikasi ekspor dan stabilitas eksternal; (3) menjaga kesinambungan fiskal dengan merancang instrumen kebijakan fiskal yang lebih produktif, efisien, dan efektif agar mampu mengakselerasi pertumbuhan ekonomi untuk kesejahteraan dan perbaikan neraca keuangan pemerintah; (4) menjaga stabilitas inflasi dan nilai tukar; (5) mengurangi ketimpangan wilayah; (6) memenuhi kebutuhan investasi dan pembiayaan dengan meningkatkan nilai tambah, lapangan kerja, dan investasi di sektor riil dan industrialisasi; serta (7) memperkuat pertumbuhan ekonomi berwawasan lingkungan. Aspek lingkungan merupakan salah satu aspek penting dalam pembangunan ekonomi ke depannya. Perubahan iklim dan menurunnya daya dukung lingkungan dapat berdampak negatif terhadap pencapaian target pertumbuhan ekonomi. Oleh karena itu, pembangunan ke depan diarahkan untuk mempertahankan keseimbangan antara pertumbuhan/ ekonomi, target penurunan dan intensitas emisi, serta kapasitas daya dukung sumber daya alam dan daya tampung lingkungan hidup saat ini dan pada masa yang akan datang.', 'question': ' Apa strategi yang dilakukan pemerintah untuk menghadapi dampak pandemi COVID-19 pada tahun 2020-2021?  ', 'answer': ' Pemerintah menerapkan kebijakan stimulus fiskal, moneter, dan keuangan untuk mengurangi dampak negatif pandemi pada kelompok rentan dan dunia usaha.  '}, {'id': 3, 'title': 'Evaluasi Paruh Waktu RPJMN 2020-2024', 'context': '3.2. Kerangka Kebijakan Makro Pembangunan\\nPerbaikan kondisi makro pembangunan merupakan langkah strategis dalam peningkatan kualitas pertumbuhan ekonomi. Upaya meningkatkan pertumbuhan ekonomi menghadapi berbagai tantangan ketidakpastian global. Kebijakan makro pembangunan yang strategis diperlukan untuk menghadapi risiko ketidakpastian global yang mewarnai perkembangan perekonomian dunia yang dapat menghambat pertumbuhan ekonomi dan pencapaian target pembangunan nasional dalam negeri. Risiko ketidakpastian yang semakin meningkat perlu diantisipasi antara lain perang dagang, pandemi COVID-19, konflik geopolitik Rusia-Ukraina, serta pengetatan kebijakan moneter global.\\nSalah satu kunci untuk dapat mencapai pertumbuhan ekonomi yang berkualitas dalam rangka mencapai sasaran pembangunan jangka menengah adalah melalui transformasi struktural. Perbaikan transformasi struktural didorong oleh perkembangan sektor lain melalui transformasi pertanian, hilirisasi pertambangan, pembangunan infrastruktur yang berkelanjutkan, dan transformasi sektor jasa. Oleh karena itu, pertumbuhan ekonomi diharapkan meningkat rata-rata 5,7–6,0 persen per tahun melalui peningkatan produktivitas, investasi yang berkelanjutan, perbaikan pasar tenaga kerja dan peningkatan kualitas sumber daya manusia (SDM).\\nPandemi COVID-19 pada tahun 2020 memberikan tekanan besar terhadap perekonomian global. Selama pelaksanaan pembangunan periode 2020–2024, pandemi COVID-19 yang berdampak besar terhadap perekonomian, sehingga arah kebijakan ekonomi makro pada periode 2022 mengalami beberapa penyesuaian antara lain (1) peningkatan pertumbuhan potensial melalui transformasi struktural untuk peningkatan kesejahteraan, penguatan permintaan domestik, dan peningkatan kinerja perdagangan internasional; (2) penjagaan stabilitas makroekonomi dengan menjaga stabilitas harga, eksternal, dan sektor keuangan; serta (3) memastikan inklusivitas dan keberlanjutan pembangunan ekonomi. Selama masa pandemi COVID-19 pada 2020–2021, arah kebijakan dan strategi makroekonomi difokuskan pada upaya untuk menahan laju pelambatan ekonomi (flattening the recession curve) dengan memberikan kebijakan stimulus fiskal, moneter, dan keuangan untuk mengurangi dampak negatif yang dirasakan pada kelompok rentan dan dunia usaha.\\nPerkembangan pandemi COVID-19 sempat diwarnai kenaikan kasus COVID-19 seiring dengan munculnya berbagai varian. Namun demikian, sejak Februari 2022 jumlah kasus dan tingkat kematian mulai menunjukkan penurunan. Pandemi COVID-19 dan kinerja ekonomi global menunjukkan tren yang membaik. Pada tahun 2021, perekonomian global secara umum mengalami perbaikan setelah terkontraksi pada tahun 2020 yang berhasil tumbuh tinggi sebesar 6,0 persen. Proses pemulihan ekonomi global berlanjut dengan perkiraan pertumbuhan ekonomi global pada tahun 2022 sebesar 3,1 persen. Adapun kinerja ekonomi domestik juga terus menunjukkan perbaikan. Pada tahun 2021 pertumbuhan ekonomi Indonesia mencapai 3,7 persen, angka tersebut jauh di atas pertumbuhan 2020 yang mengalami kontraksi 2,07 persen. Kemudian, perekonomian domestik Indonesia melanjutkan tren pemulihan dengan mampu tumbuh tinggi sebesar 5,3 persen pada tahun 2022 di tengah pelambatan ekonomi global yang dipicu oleh adanya perang Rusia dan Ukraina, tekanan inflasi yang tinggi, serta pengetatan keuangan global.\\nPandemi COVID-19 yang telah mengubah perkembangan serta tantangan ekonomi dan sosial di seluruh dunia. Krisis yang diakibatkan oleh pandemi COVID-19 menjadi momentum untuk memperkuat reformasi dan kestabilan ekonomi untuk meningkatkan produktivitas dan daya saing di tengah tantangan fundamental yang dinamis. Tantangan global juga meluas pada bidang geopolitik, kebijakan perdagangan global, dan isu terkait perubahan iklim sehingga kebijakan makro pembangunan diarahkan untuk dapat mendukung penguatan fundamental ekonomi Indonesia dalam menghadapi berbagai tantangan ke depan. Pemerintah telah mengintegrasikan berbagai kebijakan sasaran makro pembangunan yang tertuang dalam RPJMN 2020–2024 untuk menandai momentum pemulihan ekonomi, di antaranya (1) memperkuat permintaan domestik; (2) diversifikasi ekspor dan stabilitas eksternal; (3) menjaga kesinambungan fiskal dengan merancang instrumen kebijakan fiskal yang lebih produktif, efisien, dan efektif agar mampu mengakselerasi pertumbuhan ekonomi untuk kesejahteraan dan perbaikan neraca keuangan pemerintah; (4) menjaga stabilitas inflasi dan nilai tukar; (5) mengurangi ketimpangan wilayah; (6) memenuhi kebutuhan investasi dan pembiayaan dengan meningkatkan nilai tambah, lapangan kerja, dan investasi di sektor riil dan industrialisasi; serta (7) memperkuat pertumbuhan ekonomi berwawasan lingkungan. Aspek lingkungan merupakan salah satu aspek penting dalam pembangunan ekonomi ke depannya. Perubahan iklim dan menurunnya daya dukung lingkungan dapat berdampak negatif terhadap pencapaian target pertumbuhan ekonomi. Oleh karena itu, pembangunan ke depan diarahkan untuk mempertahankan keseimbangan antara pertumbuhan/ ekonomi, target penurunan dan intensitas emisi, serta kapasitas daya dukung sumber daya alam dan daya tampung lingkungan hidup saat ini dan pada masa yang akan datang.', 'question': ' Bagaimana kinerja ekonomi global dan domestik selama pandemi COVID-19?  ', 'answer': ' Perekonomian global mengalami kontraksi pada tahun 2020, tetapi pulih pada tahun 2021 dengan pertumbuhan sebesar 6,0%. Kinerja ekonomi domestik Indonesia juga membaik, dengan pertumbuhan mencapai 3,7% pada tahun 2021 dan 5,3% pada tahun 2022.  '}, {'id': 4, 'title': 'Evaluasi Paruh Waktu RPJMN 2020-2024', 'context': '3.2. Kerangka Kebijakan Makro Pembangunan\\nPerbaikan kondisi makro pembangunan merupakan langkah strategis dalam peningkatan kualitas pertumbuhan ekonomi. Upaya meningkatkan pertumbuhan ekonomi menghadapi berbagai tantangan ketidakpastian global. Kebijakan makro pembangunan yang strategis diperlukan untuk menghadapi risiko ketidakpastian global yang mewarnai perkembangan perekonomian dunia yang dapat menghambat pertumbuhan ekonomi dan pencapaian target pembangunan nasional dalam negeri. Risiko ketidakpastian yang semakin meningkat perlu diantisipasi antara lain perang dagang, pandemi COVID-19, konflik geopolitik Rusia-Ukraina, serta pengetatan kebijakan moneter global.\\nSalah satu kunci untuk dapat mencapai pertumbuhan ekonomi yang berkualitas dalam rangka mencapai sasaran pembangunan jangka menengah adalah melalui transformasi struktural. Perbaikan transformasi struktural didorong oleh perkembangan sektor lain melalui transformasi pertanian, hilirisasi pertambangan, pembangunan infrastruktur yang berkelanjutkan, dan transformasi sektor jasa. Oleh karena itu, pertumbuhan ekonomi diharapkan meningkat rata-rata 5,7–6,0 persen per tahun melalui peningkatan produktivitas, investasi yang berkelanjutan, perbaikan pasar tenaga kerja dan peningkatan kualitas sumber daya manusia (SDM).\\nPandemi COVID-19 pada tahun 2020 memberikan tekanan besar terhadap perekonomian global. Selama pelaksanaan pembangunan periode 2020–2024, pandemi COVID-19 yang berdampak besar terhadap perekonomian, sehingga arah kebijakan ekonomi makro pada periode 2022 mengalami beberapa penyesuaian antara lain (1) peningkatan pertumbuhan potensial melalui transformasi struktural untuk peningkatan kesejahteraan, penguatan permintaan domestik, dan peningkatan kinerja perdagangan internasional; (2) penjagaan stabilitas makroekonomi dengan menjaga stabilitas harga, eksternal, dan sektor keuangan; serta (3) memastikan inklusivitas dan keberlanjutan pembangunan ekonomi. Selama masa pandemi COVID-19 pada 2020–2021, arah kebijakan dan strategi makroekonomi difokuskan pada upaya untuk menahan laju pelambatan ekonomi (flattening the recession curve) dengan memberikan kebijakan stimulus fiskal, moneter, dan keuangan untuk mengurangi dampak negatif yang dirasakan pada kelompok rentan dan dunia usaha.\\nPerkembangan pandemi COVID-19 sempat diwarnai kenaikan kasus COVID-19 seiring dengan munculnya berbagai varian. Namun demikian, sejak Februari 2022 jumlah kasus dan tingkat kematian mulai menunjukkan penurunan. Pandemi COVID-19 dan kinerja ekonomi global menunjukkan tren yang membaik. Pada tahun 2021, perekonomian global secara umum mengalami perbaikan setelah terkontraksi pada tahun 2020 yang berhasil tumbuh tinggi sebesar 6,0 persen. Proses pemulihan ekonomi global berlanjut dengan perkiraan pertumbuhan ekonomi global pada tahun 2022 sebesar 3,1 persen. Adapun kinerja ekonomi domestik juga terus menunjukkan perbaikan. Pada tahun 2021 pertumbuhan ekonomi Indonesia mencapai 3,7 persen, angka tersebut jauh di atas pertumbuhan 2020 yang mengalami kontraksi 2,07 persen. Kemudian, perekonomian domestik Indonesia melanjutkan tren pemulihan dengan mampu tumbuh tinggi sebesar 5,3 persen pada tahun 2022 di tengah pelambatan ekonomi global yang dipicu oleh adanya perang Rusia dan Ukraina, tekanan inflasi yang tinggi, serta pengetatan keuangan global.\\nPandemi COVID-19 yang telah mengubah perkembangan serta tantangan ekonomi dan sosial di seluruh dunia. Krisis yang diakibatkan oleh pandemi COVID-19 menjadi momentum untuk memperkuat reformasi dan kestabilan ekonomi untuk meningkatkan produktivitas dan daya saing di tengah tantangan fundamental yang dinamis. Tantangan global juga meluas pada bidang geopolitik, kebijakan perdagangan global, dan isu terkait perubahan iklim sehingga kebijakan makro pembangunan diarahkan untuk dapat mendukung penguatan fundamental ekonomi Indonesia dalam menghadapi berbagai tantangan ke depan. Pemerintah telah mengintegrasikan berbagai kebijakan sasaran makro pembangunan yang tertuang dalam RPJMN 2020–2024 untuk menandai momentum pemulihan ekonomi, di antaranya (1) memperkuat permintaan domestik; (2) diversifikasi ekspor dan stabilitas eksternal; (3) menjaga kesinambungan fiskal dengan merancang instrumen kebijakan fiskal yang lebih produktif, efisien, dan efektif agar mampu mengakselerasi pertumbuhan ekonomi untuk kesejahteraan dan perbaikan neraca keuangan pemerintah; (4) menjaga stabilitas inflasi dan nilai tukar; (5) mengurangi ketimpangan wilayah; (6) memenuhi kebutuhan investasi dan pembiayaan dengan meningkatkan nilai tambah, lapangan kerja, dan investasi di sektor riil dan industrialisasi; serta (7) memperkuat pertumbuhan ekonomi berwawasan lingkungan. Aspek lingkungan merupakan salah satu aspek penting dalam pembangunan ekonomi ke depannya. Perubahan iklim dan menurunnya daya dukung lingkungan dapat berdampak negatif terhadap pencapaian target pertumbuhan ekonomi. Oleh karena itu, pembangunan ke depan diarahkan untuk mempertahankan keseimbangan antara pertumbuhan/ ekonomi, target penurunan dan intensitas emisi, serta kapasitas daya dukung sumber daya alam dan daya tampung lingkungan hidup saat ini dan pada masa yang akan datang.', 'question': ' Apa saja kebijakan sasaran makro pembangunan yang terintegrasi dalam RPJMN 2020-2024 untuk mendukung pemulihan ekonomi?  ', 'answer': ' Kebijakan sasaran makro pembangunan meliputi:    Memperkuat permintaan domestik   Diversifikasi ekspor dan stabilitas eksternal   Menjaga kesinambungan fiskal   Menjaga stabilitas inflasi dan nilai tukar   Mengurangi ketimpangan wilayah   Memenuhi kebutuhan investasi dan pembiayaan   Memperkuat pertumbuhan ekonomi berwawasan lingkungan  '}, {'id': 5, 'title': 'Evaluasi Paruh Waktu RPJMN 2020-2024', 'context': '3.2. Kerangka Kebijakan Makro Pembangunan\\nPerbaikan kondisi makro pembangunan merupakan langkah strategis dalam peningkatan kualitas pertumbuhan ekonomi. Upaya meningkatkan pertumbuhan ekonomi menghadapi berbagai tantangan ketidakpastian global. Kebijakan makro pembangunan yang strategis diperlukan untuk menghadapi risiko ketidakpastian global yang mewarnai perkembangan perekonomian dunia yang dapat menghambat pertumbuhan ekonomi dan pencapaian target pembangunan nasional dalam negeri. Risiko ketidakpastian yang semakin meningkat perlu diantisipasi antara lain perang dagang, pandemi COVID-19, konflik geopolitik Rusia-Ukraina, serta pengetatan kebijakan moneter global.\\nSalah satu kunci untuk dapat mencapai pertumbuhan ekonomi yang berkualitas dalam rangka mencapai sasaran pembangunan jangka menengah adalah melalui transformasi struktural. Perbaikan transformasi struktural didorong oleh perkembangan sektor lain melalui transformasi pertanian, hilirisasi pertambangan, pembangunan infrastruktur yang berkelanjutkan, dan transformasi sektor jasa. Oleh karena itu, pertumbuhan ekonomi diharapkan meningkat rata-rata 5,7–6,0 persen per tahun melalui peningkatan produktivitas, investasi yang berkelanjutan, perbaikan pasar tenaga kerja dan peningkatan kualitas sumber daya manusia (SDM).\\nPandemi COVID-19 pada tahun 2020 memberikan tekanan besar terhadap perekonomian global. Selama pelaksanaan pembangunan periode 2020–2024, pandemi COVID-19 yang berdampak besar terhadap perekonomian, sehingga arah kebijakan ekonomi makro pada periode 2022 mengalami beberapa penyesuaian antara lain (1) peningkatan pertumbuhan potensial melalui transformasi struktural untuk peningkatan kesejahteraan, penguatan permintaan domestik, dan peningkatan kinerja perdagangan internasional; (2) penjagaan stabilitas makroekonomi dengan menjaga stabilitas harga, eksternal, dan sektor keuangan; serta (3) memastikan inklusivitas dan keberlanjutan pembangunan ekonomi. Selama masa pandemi COVID-19 pada 2020–2021, arah kebijakan dan strategi makroekonomi difokuskan pada upaya untuk menahan laju pelambatan ekonomi (flattening the recession curve) dengan memberikan kebijakan stimulus fiskal, moneter, dan keuangan untuk mengurangi dampak negatif yang dirasakan pada kelompok rentan dan dunia usaha.\\nPerkembangan pandemi COVID-19 sempat diwarnai kenaikan kasus COVID-19 seiring dengan munculnya berbagai varian. Namun demikian, sejak Februari 2022 jumlah kasus dan tingkat kematian mulai menunjukkan penurunan. Pandemi COVID-19 dan kinerja ekonomi global menunjukkan tren yang membaik. Pada tahun 2021, perekonomian global secara umum mengalami perbaikan setelah terkontraksi pada tahun 2020 yang berhasil tumbuh tinggi sebesar 6,0 persen. Proses pemulihan ekonomi global berlanjut dengan perkiraan pertumbuhan ekonomi global pada tahun 2022 sebesar 3,1 persen. Adapun kinerja ekonomi domestik juga terus menunjukkan perbaikan. Pada tahun 2021 pertumbuhan ekonomi Indonesia mencapai 3,7 persen, angka tersebut jauh di atas pertumbuhan 2020 yang mengalami kontraksi 2,07 persen. Kemudian, perekonomian domestik Indonesia melanjutkan tren pemulihan dengan mampu tumbuh tinggi sebesar 5,3 persen pada tahun 2022 di tengah pelambatan ekonomi global yang dipicu oleh adanya perang Rusia dan Ukraina, tekanan inflasi yang tinggi, serta pengetatan keuangan global.\\nPandemi COVID-19 yang telah mengubah perkembangan serta tantangan ekonomi dan sosial di seluruh dunia. Krisis yang diakibatkan oleh pandemi COVID-19 menjadi momentum untuk memperkuat reformasi dan kestabilan ekonomi untuk meningkatkan produktivitas dan daya saing di tengah tantangan fundamental yang dinamis. Tantangan global juga meluas pada bidang geopolitik, kebijakan perdagangan global, dan isu terkait perubahan iklim sehingga kebijakan makro pembangunan diarahkan untuk dapat mendukung penguatan fundamental ekonomi Indonesia dalam menghadapi berbagai tantangan ke depan. Pemerintah telah mengintegrasikan berbagai kebijakan sasaran makro pembangunan yang tertuang dalam RPJMN 2020–2024 untuk menandai momentum pemulihan ekonomi, di antaranya (1) memperkuat permintaan domestik; (2) diversifikasi ekspor dan stabilitas eksternal; (3) menjaga kesinambungan fiskal dengan merancang instrumen kebijakan fiskal yang lebih produktif, efisien, dan efektif agar mampu mengakselerasi pertumbuhan ekonomi untuk kesejahteraan dan perbaikan neraca keuangan pemerintah; (4) menjaga stabilitas inflasi dan nilai tukar; (5) mengurangi ketimpangan wilayah; (6) memenuhi kebutuhan investasi dan pembiayaan dengan meningkatkan nilai tambah, lapangan kerja, dan investasi di sektor riil dan industrialisasi; serta (7) memperkuat pertumbuhan ekonomi berwawasan lingkungan. Aspek lingkungan merupakan salah satu aspek penting dalam pembangunan ekonomi ke depannya. Perubahan iklim dan menurunnya daya dukung lingkungan dapat berdampak negatif terhadap pencapaian target pertumbuhan ekonomi. Oleh karena itu, pembangunan ke depan diarahkan untuk mempertahankan keseimbangan antara pertumbuhan/ ekonomi, target penurunan dan intensitas emisi, serta kapasitas daya dukung sumber daya alam dan daya tampung lingkungan hidup saat ini dan pada masa yang akan datang.', 'question': ' Bagaimana RPJMN 2020-2024 mengintegrasikan aspek lingkungan dalam pembangunan ekonomi?  ', 'answer': ' RPJMN 2020-2024 menekankan pentingnya keseimbangan antara pertumbuhan ekonomi, target penurunan emisi, dan daya dukung sumber daya alam serta lingkungan hidup. Pembangunan ekonomi diarahkan untuk tetap berkelanjutan dengan memperhatikan dampak lingkungan dan perubahan iklim.  Semoga pertanyaan dan jawaban ini bermanfaat!'}]\n"
     ]
    }
   ],
   "source": [
    "print(qas[0])"
   ]
  },
  {
   "cell_type": "code",
   "execution_count": 65,
   "metadata": {},
   "outputs": [],
   "source": [
    "konteks = []\n",
    "pertanyaan = []\n",
    "\n",
    "for i in qas:\n",
    "  konteks.append(i[0]['context'])\n",
    "  for j in i:\n",
    "    pertanyaan.append(j['question'])\n",
    "\n",
    "# to csv\n",
    "dict_list_konteks = []\n",
    "dict_list_pertanyaan = []\n",
    "for i in range(len(konteks)):\n",
    "  dict_list_konteks.append({'Konteks': konteks[i]})\n",
    "\n",
    "for i in range(len(pertanyaan)):\n",
    "  dict_list_pertanyaan.append({'Pertanyaan': pertanyaan[i]})\n",
    "\n",
    "df_k = pd.DataFrame(dict_list_konteks)\n",
    "df_k.to_csv('data_k.csv', index=False)\n",
    "\n",
    "df_p = pd.DataFrame(dict_list_pertanyaan)\n",
    "df_p.to_csv('data_p.csv', index=False)"
   ]
  },
  {
   "cell_type": "code",
   "execution_count": null,
   "metadata": {},
   "outputs": [],
   "source": []
  },
  {
   "cell_type": "code",
   "execution_count": 66,
   "metadata": {},
   "outputs": [],
   "source": [
    "# jsonl = []\n",
    "# for i in qas:\n",
    "#   for j in i:\n",
    "#     jsonl.append(j)"
   ]
  },
  {
   "cell_type": "code",
   "execution_count": 67,
   "metadata": {},
   "outputs": [],
   "source": [
    "# # covert to xlsx\n",
    "# df = pd.DataFrame(jsonl)\n",
    "# df.to_excel('output.xlsx', index=False)\n",
    "# print(\"Berhasil convert to xlsx\")\n"
   ]
  },
  {
   "cell_type": "code",
   "execution_count": 68,
   "metadata": {},
   "outputs": [],
   "source": [
    "# # convert array to jsonl\n",
    "# import json\n",
    "\n",
    "# with open('data.jsonl', 'w') as outfile:\n",
    "#     for entry in jsonl:\n",
    "#         json.dump(entry, outfile)\n",
    "#         outfile.write('\\n')"
   ]
  }
 ],
 "metadata": {
  "kernelspec": {
   "display_name": "apicta",
   "language": "python",
   "name": "python3"
  },
  "language_info": {
   "codemirror_mode": {
    "name": "ipython",
    "version": 3
   },
   "file_extension": ".py",
   "mimetype": "text/x-python",
   "name": "python",
   "nbconvert_exporter": "python",
   "pygments_lexer": "ipython3",
   "version": "3.7.16"
  }
 },
 "nbformat": 4,
 "nbformat_minor": 2
}
