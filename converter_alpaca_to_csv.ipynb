{
 "cells": [
  {
   "cell_type": "code",
   "execution_count": 1,
   "metadata": {},
   "outputs": [],
   "source": [
    "import pandas as pd\n",
    "import csv\n",
    "df = pd.read_csv('data-input/data_eva3.csv')"
   ]
  },
  {
   "cell_type": "code",
   "execution_count": 26,
   "metadata": {},
   "outputs": [
    {
     "name": "stdout",
     "output_type": "stream",
     "text": [
      "129\n"
     ]
    }
   ],
   "source": [
    "# check count\n",
    "print(len(df))"
   ]
  },
  {
   "cell_type": "code",
   "execution_count": 27,
   "metadata": {},
   "outputs": [
    {
     "name": "stdout",
     "output_type": "stream",
     "text": [
      "Konteks    11\n",
      "Prompt     12\n",
      "Respon      1\n",
      "dtype: int64\n"
     ]
    }
   ],
   "source": [
    "# check is there any missing value\n",
    "print(df.isnull().sum())"
   ]
  },
  {
   "cell_type": "code",
   "execution_count": 28,
   "metadata": {},
   "outputs": [],
   "source": [
    "a = df.dropna()"
   ]
  },
  {
   "cell_type": "code",
   "execution_count": 29,
   "metadata": {},
   "outputs": [
    {
     "name": "stdout",
     "output_type": "stream",
     "text": [
      "117\n",
      "129\n"
     ]
    },
    {
     "data": {
      "text/plain": [
       "Konteks    0\n",
       "Prompt     0\n",
       "Respon     0\n",
       "dtype: int64"
      ]
     },
     "execution_count": 29,
     "metadata": {},
     "output_type": "execute_result"
    }
   ],
   "source": [
    "print(len(a))\n",
    "print(len(df))\n",
    "a.isnull().sum()"
   ]
  },
  {
   "cell_type": "code",
   "execution_count": 2,
   "metadata": {},
   "outputs": [
    {
     "ename": "NameError",
     "evalue": "name 'a' is not defined",
     "output_type": "error",
     "traceback": [
      "\u001b[1;31m---------------------------------------------------------------------------\u001b[0m",
      "\u001b[1;31mNameError\u001b[0m                                 Traceback (most recent call last)",
      "\u001b[1;32m~\\AppData\\Local\\Temp\\ipykernel_2500\\2167009006.py\u001b[0m in \u001b[0;36m<module>\u001b[1;34m\u001b[0m\n\u001b[1;32m----> 1\u001b[1;33m \u001b[0ma\u001b[0m\u001b[1;33m\u001b[0m\u001b[1;33m\u001b[0m\u001b[0m\n\u001b[0m",
      "\u001b[1;31mNameError\u001b[0m: name 'a' is not defined"
     ]
    }
   ],
   "source": [
    "a"
   ]
  },
  {
   "cell_type": "code",
   "execution_count": 3,
   "metadata": {},
   "outputs": [],
   "source": [
    "# fill missing values with the value that comes directly after it in the same column\n",
    "df_fill = df.fillna(method='ffill')\n"
   ]
  },
  {
   "cell_type": "code",
   "execution_count": 4,
   "metadata": {},
   "outputs": [],
   "source": [
    "# delete col summary\n",
    "df_fill = df_fill.drop(columns=['SUMMARY/MEANING'])"
   ]
  },
  {
   "cell_type": "code",
   "execution_count": 5,
   "metadata": {},
   "outputs": [],
   "source": [
    "# df_fill\n",
    "# change name of columns\n",
    "\n",
    "df_fill.columns = ['input', 'instruction', 'output']"
   ]
  },
  {
   "cell_type": "code",
   "execution_count": 6,
   "metadata": {},
   "outputs": [
    {
     "data": {
      "text/html": [
       "<div>\n",
       "<style scoped>\n",
       "    .dataframe tbody tr th:only-of-type {\n",
       "        vertical-align: middle;\n",
       "    }\n",
       "\n",
       "    .dataframe tbody tr th {\n",
       "        vertical-align: top;\n",
       "    }\n",
       "\n",
       "    .dataframe thead th {\n",
       "        text-align: right;\n",
       "    }\n",
       "</style>\n",
       "<table border=\"1\" class=\"dataframe\">\n",
       "  <thead>\n",
       "    <tr style=\"text-align: right;\">\n",
       "      <th></th>\n",
       "      <th>input</th>\n",
       "      <th>instruction</th>\n",
       "      <th>output</th>\n",
       "    </tr>\n",
       "  </thead>\n",
       "  <tbody>\n",
       "    <tr>\n",
       "      <th>0</th>\n",
       "      <td>Struktur penduduk Indonesia ditandai dengan ti...</td>\n",
       "      <td>Berapa persentase penduduk usia produktif di I...</td>\n",
       "      <td>Pada tahun 2018, penduduk usia produktif di In...</td>\n",
       "    </tr>\n",
       "    <tr>\n",
       "      <th>1</th>\n",
       "      <td>Struktur penduduk Indonesia ditandai dengan ti...</td>\n",
       "      <td>Berapa jumlah penduduk usia produktif di Indon...</td>\n",
       "      <td>Pada tahun 2018, jumlah penduduk usia produkti...</td>\n",
       "    </tr>\n",
       "    <tr>\n",
       "      <th>2</th>\n",
       "      <td>Struktur penduduk Indonesia ditandai dengan ti...</td>\n",
       "      <td>Apa yang dimaksud dengan angka ketergantungan ...</td>\n",
       "      <td>Angka ketergantungan usia muda dan tua yang re...</td>\n",
       "    </tr>\n",
       "    <tr>\n",
       "      <th>3</th>\n",
       "      <td>Struktur penduduk Indonesia ditandai dengan ti...</td>\n",
       "      <td>Apa yang dimaksud dengan bonus demografi (demo...</td>\n",
       "      <td>Bonus demografi adalah keuntungan ekonomi yang...</td>\n",
       "    </tr>\n",
       "    <tr>\n",
       "      <th>4</th>\n",
       "      <td>Struktur penduduk Indonesia ditandai dengan ti...</td>\n",
       "      <td>Apa prasyarat utama untuk mendapatkan bonus de...</td>\n",
       "      <td>Prasyarat utama untuk mendapatkan bonus demogr...</td>\n",
       "    </tr>\n",
       "    <tr>\n",
       "      <th>...</th>\n",
       "      <td>...</td>\n",
       "      <td>...</td>\n",
       "      <td>...</td>\n",
       "    </tr>\n",
       "    <tr>\n",
       "      <th>105</th>\n",
       "      <td>Kekerasan terhadap perempuan (KtP) terus menin...</td>\n",
       "      <td>Mengapa kasus inses sering tidak terungkap dan...</td>\n",
       "      <td>Kasus inses sering tidak terungkap dan sulit d...</td>\n",
       "    </tr>\n",
       "    <tr>\n",
       "      <th>106</th>\n",
       "      <td>Kekerasan terhadap perempuan (KtP) terus menin...</td>\n",
       "      <td>Bagaimana situasi kekerasan terhadap perempuan...</td>\n",
       "      <td>Perempuan semakin rentan mengalami kekerasan p...</td>\n",
       "    </tr>\n",
       "    <tr>\n",
       "      <th>107</th>\n",
       "      <td>Kekerasan terhadap perempuan (KtP) terus menin...</td>\n",
       "      <td>Bagaimana ancaman tindak pidana perdagangan or...</td>\n",
       "      <td>Menurut data Bareskrim Polri, sekitar 70 perse...</td>\n",
       "    </tr>\n",
       "    <tr>\n",
       "      <th>108</th>\n",
       "      <td>Peran dan partisipasi pemuda dalam pembangunan...</td>\n",
       "      <td>Mengapa peran dan partisipasi pemuda dalam pem...</td>\n",
       "      <td>Hanya 6,7 persen pemuda yang pernah memberikan...</td>\n",
       "    </tr>\n",
       "    <tr>\n",
       "      <th>109</th>\n",
       "      <td>Peran dan partisipasi pemuda dalam pembangunan...</td>\n",
       "      <td>Bagaimana kondisi pemuda dengan perilaku beris...</td>\n",
       "      <td>Sebanyak 26,3 persen pemuda tercatat pernah me...</td>\n",
       "    </tr>\n",
       "  </tbody>\n",
       "</table>\n",
       "<p>110 rows × 3 columns</p>\n",
       "</div>"
      ],
      "text/plain": [
       "                                                 input  \\\n",
       "0    Struktur penduduk Indonesia ditandai dengan ti...   \n",
       "1    Struktur penduduk Indonesia ditandai dengan ti...   \n",
       "2    Struktur penduduk Indonesia ditandai dengan ti...   \n",
       "3    Struktur penduduk Indonesia ditandai dengan ti...   \n",
       "4    Struktur penduduk Indonesia ditandai dengan ti...   \n",
       "..                                                 ...   \n",
       "105  Kekerasan terhadap perempuan (KtP) terus menin...   \n",
       "106  Kekerasan terhadap perempuan (KtP) terus menin...   \n",
       "107  Kekerasan terhadap perempuan (KtP) terus menin...   \n",
       "108  Peran dan partisipasi pemuda dalam pembangunan...   \n",
       "109  Peran dan partisipasi pemuda dalam pembangunan...   \n",
       "\n",
       "                                           instruction  \\\n",
       "0    Berapa persentase penduduk usia produktif di I...   \n",
       "1    Berapa jumlah penduduk usia produktif di Indon...   \n",
       "2    Apa yang dimaksud dengan angka ketergantungan ...   \n",
       "3    Apa yang dimaksud dengan bonus demografi (demo...   \n",
       "4    Apa prasyarat utama untuk mendapatkan bonus de...   \n",
       "..                                                 ...   \n",
       "105  Mengapa kasus inses sering tidak terungkap dan...   \n",
       "106  Bagaimana situasi kekerasan terhadap perempuan...   \n",
       "107  Bagaimana ancaman tindak pidana perdagangan or...   \n",
       "108  Mengapa peran dan partisipasi pemuda dalam pem...   \n",
       "109  Bagaimana kondisi pemuda dengan perilaku beris...   \n",
       "\n",
       "                                                output  \n",
       "0    Pada tahun 2018, penduduk usia produktif di In...  \n",
       "1    Pada tahun 2018, jumlah penduduk usia produkti...  \n",
       "2    Angka ketergantungan usia muda dan tua yang re...  \n",
       "3    Bonus demografi adalah keuntungan ekonomi yang...  \n",
       "4    Prasyarat utama untuk mendapatkan bonus demogr...  \n",
       "..                                                 ...  \n",
       "105  Kasus inses sering tidak terungkap dan sulit d...  \n",
       "106  Perempuan semakin rentan mengalami kekerasan p...  \n",
       "107  Menurut data Bareskrim Polri, sekitar 70 perse...  \n",
       "108  Hanya 6,7 persen pemuda yang pernah memberikan...  \n",
       "109  Sebanyak 26,3 persen pemuda tercatat pernah me...  \n",
       "\n",
       "[110 rows x 3 columns]"
      ]
     },
     "execution_count": 6,
     "metadata": {},
     "output_type": "execute_result"
    }
   ],
   "source": [
    "df_fill"
   ]
  },
  {
   "cell_type": "code",
   "execution_count": 33,
   "metadata": {},
   "outputs": [],
   "source": [
    "df_fill.to_csv('data-output/data_RKP25_alpaca.csv', index=False)"
   ]
  },
  {
   "cell_type": "code",
   "execution_count": null,
   "metadata": {},
   "outputs": [],
   "source": []
  },
  {
   "cell_type": "code",
   "execution_count": 36,
   "metadata": {},
   "outputs": [],
   "source": [
    "check = pd.read_csv('data-output/data_RKP25_alpaca.csv')"
   ]
  },
  {
   "cell_type": "code",
   "execution_count": 37,
   "metadata": {},
   "outputs": [
    {
     "data": {
      "text/plain": [
       "117"
      ]
     },
     "execution_count": 37,
     "metadata": {},
     "output_type": "execute_result"
    }
   ],
   "source": [
    "len(check)"
   ]
  }
 ],
 "metadata": {
  "kernelspec": {
   "display_name": "tf",
   "language": "python",
   "name": "python3"
  },
  "language_info": {
   "codemirror_mode": {
    "name": "ipython",
    "version": 3
   },
   "file_extension": ".py",
   "mimetype": "text/x-python",
   "name": "python",
   "nbconvert_exporter": "python",
   "pygments_lexer": "ipython3",
   "version": "3.7.16"
  }
 },
 "nbformat": 4,
 "nbformat_minor": 2
}
