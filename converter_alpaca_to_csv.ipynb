{
 "cells": [
  {
   "cell_type": "code",
   "execution_count": 2,
   "metadata": {},
   "outputs": [],
   "source": [
    "import pandas as pd\n",
    "import csv\n",
    "df = pd.read_csv('data-input/Ren Doc Review.csv', encoding='unicode_escape')"
   ]
  },
  {
   "cell_type": "code",
   "execution_count": null,
   "metadata": {},
   "outputs": [],
   "source": []
  },
  {
   "cell_type": "code",
   "execution_count": 1,
   "metadata": {},
   "outputs": [],
   "source": [
    "import pandas as pd\n",
    "a = pd.read_csv('data-output/lengkap/qas_Eva_dan_Ren PN_alpaca.csv', encoding='unicode_escape')"
   ]
  },
  {
   "cell_type": "code",
   "execution_count": 4,
   "metadata": {},
   "outputs": [
    {
     "name": "stdout",
     "output_type": "stream",
     "text": [
      "2388\n"
     ]
    }
   ],
   "source": [
    "# check count\n",
    "print(len(a))"
   ]
  },
  {
   "cell_type": "code",
   "execution_count": 3,
   "metadata": {},
   "outputs": [
    {
     "name": "stdout",
     "output_type": "stream",
     "text": [
      "input          3.2. Kerangka Kebijakan Makro Pembangunan\\nPer...\n",
      "instruction    Mengapa perbaikan kondisi makro pembangunan di...\n",
      "output         Perbaikan kondisi makro pembangunan dianggap s...\n",
      "dtype: object\n"
     ]
    }
   ],
   "source": [
    "# check is there any missing value\n",
    "print(a.isnull().sum())"
   ]
  },
  {
   "cell_type": "code",
   "execution_count": 2,
   "metadata": {},
   "outputs": [],
   "source": [
    "# df = df.dropna()"
   ]
  },
  {
   "cell_type": "code",
   "execution_count": 6,
   "metadata": {},
   "outputs": [
    {
     "data": {
      "text/html": [
       "<div>\n",
       "<style scoped>\n",
       "    .dataframe tbody tr th:only-of-type {\n",
       "        vertical-align: middle;\n",
       "    }\n",
       "\n",
       "    .dataframe tbody tr th {\n",
       "        vertical-align: top;\n",
       "    }\n",
       "\n",
       "    .dataframe thead th {\n",
       "        text-align: right;\n",
       "    }\n",
       "</style>\n",
       "<table border=\"1\" class=\"dataframe\">\n",
       "  <thead>\n",
       "    <tr style=\"text-align: right;\">\n",
       "      <th></th>\n",
       "      <th>STATEMENT</th>\n",
       "      <th>question</th>\n",
       "      <th>answer</th>\n",
       "    </tr>\n",
       "  </thead>\n",
       "  <tbody>\n",
       "    <tr>\n",
       "      <th>0</th>\n",
       "      <td>Pembangunan Politik, Hukum, Pertahanan dan Kea...</td>\n",
       "      <td>Apa saja tujuan utama dari Pembangunan Polhukh...</td>\n",
       "      <td>Tujuan utama dari Pembangunan Polhukhankam Ind...</td>\n",
       "    </tr>\n",
       "    <tr>\n",
       "      <th>1</th>\n",
       "      <td>NaN</td>\n",
       "      <td>Mengapa kondisi Polhukhankam penting untuk men...</td>\n",
       "      <td>Kondisi Polhukhankam yang stabil dan teratur m...</td>\n",
       "    </tr>\n",
       "    <tr>\n",
       "      <th>2</th>\n",
       "      <td>NaN</td>\n",
       "      <td>Apa saja isu domestik yang perlu diantisipasi ...</td>\n",
       "      <td>Isu domestik yang perlu diantisipasi selama li...</td>\n",
       "    </tr>\n",
       "    <tr>\n",
       "      <th>3</th>\n",
       "      <td>NaN</td>\n",
       "      <td>Apa saja isu global yang perlu menjadi perhati...</td>\n",
       "      <td>Isu global yang perlu menjadi perhatian melipu...</td>\n",
       "    </tr>\n",
       "    <tr>\n",
       "      <th>4</th>\n",
       "      <td>NaN</td>\n",
       "      <td>Sebutkan lima bidang fokus dalam arah kebijaka...</td>\n",
       "      <td>Lima bidang fokus dalam arah kebijakan Pembang...</td>\n",
       "    </tr>\n",
       "    <tr>\n",
       "      <th>...</th>\n",
       "      <td>...</td>\n",
       "      <td>...</td>\n",
       "      <td>...</td>\n",
       "    </tr>\n",
       "    <tr>\n",
       "      <th>213</th>\n",
       "      <td>NaN</td>\n",
       "      <td>Apa saja langkah-langkah konkret dalam peningk...</td>\n",
       "      <td>Langkah-langkahnya meliputi:  Penguatan inteli...</td>\n",
       "    </tr>\n",
       "    <tr>\n",
       "      <th>214</th>\n",
       "      <td>NaN</td>\n",
       "      <td>Bagaimana pendekatan Confidence Building Measu...</td>\n",
       "      <td>CBM bertujuan untuk membangun kepercayaan dan ...</td>\n",
       "    </tr>\n",
       "    <tr>\n",
       "      <th>215</th>\n",
       "      <td>NaN</td>\n",
       "      <td>Apa pentingnya sistem peringatan dini terpadu ...</td>\n",
       "      <td>Sistem peringatan dini terpadu memungkinkan:  ...</td>\n",
       "    </tr>\n",
       "    <tr>\n",
       "      <th>216</th>\n",
       "      <td>NaN</td>\n",
       "      <td>Bagaimana upaya penanganan kasus TPPO dan keja...</td>\n",
       "      <td>Upaya penanganan meliputi:  Penegakan hukum ya...</td>\n",
       "    </tr>\n",
       "    <tr>\n",
       "      <th>217</th>\n",
       "      <td>NaN</td>\n",
       "      <td>Apa peran Tim Cepat Tanggap Keamanan Siber dal...</td>\n",
       "      <td>Tim Cepat Tanggap Keamanan Siber bertugas:  Me...</td>\n",
       "    </tr>\n",
       "  </tbody>\n",
       "</table>\n",
       "<p>218 rows × 3 columns</p>\n",
       "</div>"
      ],
      "text/plain": [
       "                                             STATEMENT  \\\n",
       "0    Pembangunan Politik, Hukum, Pertahanan dan Kea...   \n",
       "1                                                  NaN   \n",
       "2                                                  NaN   \n",
       "3                                                  NaN   \n",
       "4                                                  NaN   \n",
       "..                                                 ...   \n",
       "213                                                NaN   \n",
       "214                                                NaN   \n",
       "215                                                NaN   \n",
       "216                                                NaN   \n",
       "217                                                NaN   \n",
       "\n",
       "                                              question  \\\n",
       "0    Apa saja tujuan utama dari Pembangunan Polhukh...   \n",
       "1    Mengapa kondisi Polhukhankam penting untuk men...   \n",
       "2    Apa saja isu domestik yang perlu diantisipasi ...   \n",
       "3    Apa saja isu global yang perlu menjadi perhati...   \n",
       "4    Sebutkan lima bidang fokus dalam arah kebijaka...   \n",
       "..                                                 ...   \n",
       "213  Apa saja langkah-langkah konkret dalam peningk...   \n",
       "214  Bagaimana pendekatan Confidence Building Measu...   \n",
       "215  Apa pentingnya sistem peringatan dini terpadu ...   \n",
       "216  Bagaimana upaya penanganan kasus TPPO dan keja...   \n",
       "217  Apa peran Tim Cepat Tanggap Keamanan Siber dal...   \n",
       "\n",
       "                                                answer  \n",
       "0    Tujuan utama dari Pembangunan Polhukhankam Ind...  \n",
       "1    Kondisi Polhukhankam yang stabil dan teratur m...  \n",
       "2    Isu domestik yang perlu diantisipasi selama li...  \n",
       "3    Isu global yang perlu menjadi perhatian melipu...  \n",
       "4    Lima bidang fokus dalam arah kebijakan Pembang...  \n",
       "..                                                 ...  \n",
       "213  Langkah-langkahnya meliputi:  Penguatan inteli...  \n",
       "214  CBM bertujuan untuk membangun kepercayaan dan ...  \n",
       "215  Sistem peringatan dini terpadu memungkinkan:  ...  \n",
       "216  Upaya penanganan meliputi:  Penegakan hukum ya...  \n",
       "217  Tim Cepat Tanggap Keamanan Siber bertugas:  Me...  \n",
       "\n",
       "[218 rows x 3 columns]"
      ]
     },
     "execution_count": 6,
     "metadata": {},
     "output_type": "execute_result"
    }
   ],
   "source": [
    "df"
   ]
  },
  {
   "cell_type": "code",
   "execution_count": 7,
   "metadata": {},
   "outputs": [
    {
     "name": "stderr",
     "output_type": "stream",
     "text": [
      "C:\\Users\\Rafli\\AppData\\Local\\Temp\\ipykernel_7812\\852030549.py:2: FutureWarning: DataFrame.fillna with 'method' is deprecated and will raise in a future version. Use obj.ffill() or obj.bfill() instead.\n",
      "  df_fill = df.fillna(method='ffill')\n"
     ]
    }
   ],
   "source": [
    "# fill missing values with the value that comes directly after it in the same column\n",
    "df_fill = df.fillna(method='ffill')\n"
   ]
  },
  {
   "cell_type": "code",
   "execution_count": 5,
   "metadata": {},
   "outputs": [],
   "source": [
    "# delete col summary\n",
    "df_fill = df_fill.drop(columns=['SUMMARY/MEANING'])"
   ]
  },
  {
   "cell_type": "code",
   "execution_count": 8,
   "metadata": {},
   "outputs": [],
   "source": [
    "# df_fill\n",
    "# change name of columns\n",
    "\n",
    "df_fill.columns = ['input', 'instruction', 'output']"
   ]
  },
  {
   "cell_type": "code",
   "execution_count": 9,
   "metadata": {},
   "outputs": [
    {
     "data": {
      "text/html": [
       "<div>\n",
       "<style scoped>\n",
       "    .dataframe tbody tr th:only-of-type {\n",
       "        vertical-align: middle;\n",
       "    }\n",
       "\n",
       "    .dataframe tbody tr th {\n",
       "        vertical-align: top;\n",
       "    }\n",
       "\n",
       "    .dataframe thead th {\n",
       "        text-align: right;\n",
       "    }\n",
       "</style>\n",
       "<table border=\"1\" class=\"dataframe\">\n",
       "  <thead>\n",
       "    <tr style=\"text-align: right;\">\n",
       "      <th></th>\n",
       "      <th>input</th>\n",
       "      <th>instruction</th>\n",
       "      <th>output</th>\n",
       "    </tr>\n",
       "  </thead>\n",
       "  <tbody>\n",
       "    <tr>\n",
       "      <th>0</th>\n",
       "      <td>Pembangunan Politik, Hukum, Pertahanan dan Kea...</td>\n",
       "      <td>Apa saja tujuan utama dari Pembangunan Polhukh...</td>\n",
       "      <td>Tujuan utama dari Pembangunan Polhukhankam Ind...</td>\n",
       "    </tr>\n",
       "    <tr>\n",
       "      <th>1</th>\n",
       "      <td>Pembangunan Politik, Hukum, Pertahanan dan Kea...</td>\n",
       "      <td>Mengapa kondisi Polhukhankam penting untuk men...</td>\n",
       "      <td>Kondisi Polhukhankam yang stabil dan teratur m...</td>\n",
       "    </tr>\n",
       "    <tr>\n",
       "      <th>2</th>\n",
       "      <td>Pembangunan Politik, Hukum, Pertahanan dan Kea...</td>\n",
       "      <td>Apa saja isu domestik yang perlu diantisipasi ...</td>\n",
       "      <td>Isu domestik yang perlu diantisipasi selama li...</td>\n",
       "    </tr>\n",
       "    <tr>\n",
       "      <th>3</th>\n",
       "      <td>Pembangunan Politik, Hukum, Pertahanan dan Kea...</td>\n",
       "      <td>Apa saja isu global yang perlu menjadi perhati...</td>\n",
       "      <td>Isu global yang perlu menjadi perhatian melipu...</td>\n",
       "    </tr>\n",
       "    <tr>\n",
       "      <th>4</th>\n",
       "      <td>Pembangunan Politik, Hukum, Pertahanan dan Kea...</td>\n",
       "      <td>Sebutkan lima bidang fokus dalam arah kebijaka...</td>\n",
       "      <td>Lima bidang fokus dalam arah kebijakan Pembang...</td>\n",
       "    </tr>\n",
       "    <tr>\n",
       "      <th>...</th>\n",
       "      <td>...</td>\n",
       "      <td>...</td>\n",
       "      <td>...</td>\n",
       "    </tr>\n",
       "    <tr>\n",
       "      <th>213</th>\n",
       "      <td>1. Penguatan Keamanan Dalam Negeri diwujudkan ...</td>\n",
       "      <td>Apa saja langkah-langkah konkret dalam peningk...</td>\n",
       "      <td>Langkah-langkahnya meliputi:  Penguatan inteli...</td>\n",
       "    </tr>\n",
       "    <tr>\n",
       "      <th>214</th>\n",
       "      <td>1. Penguatan Keamanan Dalam Negeri diwujudkan ...</td>\n",
       "      <td>Bagaimana pendekatan Confidence Building Measu...</td>\n",
       "      <td>CBM bertujuan untuk membangun kepercayaan dan ...</td>\n",
       "    </tr>\n",
       "    <tr>\n",
       "      <th>215</th>\n",
       "      <td>1. Penguatan Keamanan Dalam Negeri diwujudkan ...</td>\n",
       "      <td>Apa pentingnya sistem peringatan dini terpadu ...</td>\n",
       "      <td>Sistem peringatan dini terpadu memungkinkan:  ...</td>\n",
       "    </tr>\n",
       "    <tr>\n",
       "      <th>216</th>\n",
       "      <td>1. Penguatan Keamanan Dalam Negeri diwujudkan ...</td>\n",
       "      <td>Bagaimana upaya penanganan kasus TPPO dan keja...</td>\n",
       "      <td>Upaya penanganan meliputi:  Penegakan hukum ya...</td>\n",
       "    </tr>\n",
       "    <tr>\n",
       "      <th>217</th>\n",
       "      <td>1. Penguatan Keamanan Dalam Negeri diwujudkan ...</td>\n",
       "      <td>Apa peran Tim Cepat Tanggap Keamanan Siber dal...</td>\n",
       "      <td>Tim Cepat Tanggap Keamanan Siber bertugas:  Me...</td>\n",
       "    </tr>\n",
       "  </tbody>\n",
       "</table>\n",
       "<p>218 rows × 3 columns</p>\n",
       "</div>"
      ],
      "text/plain": [
       "                                                 input  \\\n",
       "0    Pembangunan Politik, Hukum, Pertahanan dan Kea...   \n",
       "1    Pembangunan Politik, Hukum, Pertahanan dan Kea...   \n",
       "2    Pembangunan Politik, Hukum, Pertahanan dan Kea...   \n",
       "3    Pembangunan Politik, Hukum, Pertahanan dan Kea...   \n",
       "4    Pembangunan Politik, Hukum, Pertahanan dan Kea...   \n",
       "..                                                 ...   \n",
       "213  1. Penguatan Keamanan Dalam Negeri diwujudkan ...   \n",
       "214  1. Penguatan Keamanan Dalam Negeri diwujudkan ...   \n",
       "215  1. Penguatan Keamanan Dalam Negeri diwujudkan ...   \n",
       "216  1. Penguatan Keamanan Dalam Negeri diwujudkan ...   \n",
       "217  1. Penguatan Keamanan Dalam Negeri diwujudkan ...   \n",
       "\n",
       "                                           instruction  \\\n",
       "0    Apa saja tujuan utama dari Pembangunan Polhukh...   \n",
       "1    Mengapa kondisi Polhukhankam penting untuk men...   \n",
       "2    Apa saja isu domestik yang perlu diantisipasi ...   \n",
       "3    Apa saja isu global yang perlu menjadi perhati...   \n",
       "4    Sebutkan lima bidang fokus dalam arah kebijaka...   \n",
       "..                                                 ...   \n",
       "213  Apa saja langkah-langkah konkret dalam peningk...   \n",
       "214  Bagaimana pendekatan Confidence Building Measu...   \n",
       "215  Apa pentingnya sistem peringatan dini terpadu ...   \n",
       "216  Bagaimana upaya penanganan kasus TPPO dan keja...   \n",
       "217  Apa peran Tim Cepat Tanggap Keamanan Siber dal...   \n",
       "\n",
       "                                                output  \n",
       "0    Tujuan utama dari Pembangunan Polhukhankam Ind...  \n",
       "1    Kondisi Polhukhankam yang stabil dan teratur m...  \n",
       "2    Isu domestik yang perlu diantisipasi selama li...  \n",
       "3    Isu global yang perlu menjadi perhatian melipu...  \n",
       "4    Lima bidang fokus dalam arah kebijakan Pembang...  \n",
       "..                                                 ...  \n",
       "213  Langkah-langkahnya meliputi:  Penguatan inteli...  \n",
       "214  CBM bertujuan untuk membangun kepercayaan dan ...  \n",
       "215  Sistem peringatan dini terpadu memungkinkan:  ...  \n",
       "216  Upaya penanganan meliputi:  Penegakan hukum ya...  \n",
       "217  Tim Cepat Tanggap Keamanan Siber bertugas:  Me...  \n",
       "\n",
       "[218 rows x 3 columns]"
      ]
     },
     "execution_count": 9,
     "metadata": {},
     "output_type": "execute_result"
    }
   ],
   "source": [
    "df_fill"
   ]
  },
  {
   "cell_type": "code",
   "execution_count": 10,
   "metadata": {},
   "outputs": [],
   "source": [
    "df_fill.to_csv('data-output/data_REN PN_alpaca.csv', index=False)"
   ]
  }
 ],
 "metadata": {
  "kernelspec": {
   "display_name": "tf",
   "language": "python",
   "name": "python3"
  },
  "language_info": {
   "codemirror_mode": {
    "name": "ipython",
    "version": 3
   },
   "file_extension": ".py",
   "mimetype": "text/x-python",
   "name": "python",
   "nbconvert_exporter": "python",
   "pygments_lexer": "ipython3",
   "version": "3.9.19"
  }
 },
 "nbformat": 4,
 "nbformat_minor": 2
}
