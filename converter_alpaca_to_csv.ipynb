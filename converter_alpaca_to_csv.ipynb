{
 "cells": [
  {
   "cell_type": "code",
   "execution_count": 25,
   "metadata": {},
   "outputs": [],
   "source": [
    "import pandas as pd\n",
    "import csv\n",
    "df = pd.read_csv('data-input/RKP25.csv', encoding='unicode_escape')"
   ]
  },
  {
   "cell_type": "code",
   "execution_count": 26,
   "metadata": {},
   "outputs": [
    {
     "name": "stdout",
     "output_type": "stream",
     "text": [
      "129\n"
     ]
    }
   ],
   "source": [
    "# check count\n",
    "print(len(df))"
   ]
  },
  {
   "cell_type": "code",
   "execution_count": 27,
   "metadata": {},
   "outputs": [
    {
     "name": "stdout",
     "output_type": "stream",
     "text": [
      "Konteks    11\n",
      "Prompt     12\n",
      "Respon      1\n",
      "dtype: int64\n"
     ]
    }
   ],
   "source": [
    "# check is there any missing value\n",
    "print(df.isnull().sum())"
   ]
  },
  {
   "cell_type": "code",
   "execution_count": 28,
   "metadata": {},
   "outputs": [],
   "source": [
    "a = df.dropna()"
   ]
  },
  {
   "cell_type": "code",
   "execution_count": 29,
   "metadata": {},
   "outputs": [
    {
     "name": "stdout",
     "output_type": "stream",
     "text": [
      "117\n",
      "129\n"
     ]
    },
    {
     "data": {
      "text/plain": [
       "Konteks    0\n",
       "Prompt     0\n",
       "Respon     0\n",
       "dtype: int64"
      ]
     },
     "execution_count": 29,
     "metadata": {},
     "output_type": "execute_result"
    }
   ],
   "source": [
    "print(len(a))\n",
    "print(len(df))\n",
    "a.isnull().sum()"
   ]
  },
  {
   "cell_type": "code",
   "execution_count": 30,
   "metadata": {},
   "outputs": [
    {
     "data": {
      "text/html": [
       "<div>\n",
       "<style scoped>\n",
       "    .dataframe tbody tr th:only-of-type {\n",
       "        vertical-align: middle;\n",
       "    }\n",
       "\n",
       "    .dataframe tbody tr th {\n",
       "        vertical-align: top;\n",
       "    }\n",
       "\n",
       "    .dataframe thead th {\n",
       "        text-align: right;\n",
       "    }\n",
       "</style>\n",
       "<table border=\"1\" class=\"dataframe\">\n",
       "  <thead>\n",
       "    <tr style=\"text-align: right;\">\n",
       "      <th></th>\n",
       "      <th>Konteks</th>\n",
       "      <th>Prompt</th>\n",
       "      <th>Respon</th>\n",
       "    </tr>\n",
       "  </thead>\n",
       "  <tbody>\n",
       "    <tr>\n",
       "      <th>0</th>\n",
       "      <td>Ketidakpastian global semakin kompleks, diseba...</td>\n",
       "      <td>Berdasarkan RKP 2025, aspek apa saja yang diul...</td>\n",
       "      <td>1. Ketidakpastian Global:\\n   - Ketidakpastian...</td>\n",
       "    </tr>\n",
       "    <tr>\n",
       "      <th>1</th>\n",
       "      <td>Ketidakpastian global semakin kompleks, diseba...</td>\n",
       "      <td>Dalam dokumen RKP tahun 2025, aspek apa saja y...</td>\n",
       "      <td>1. Digitalisasi dan Teknologi:\\n   - Dampak da...</td>\n",
       "    </tr>\n",
       "    <tr>\n",
       "      <th>2</th>\n",
       "      <td>Kebijakan pembangunan pada Rencana Kerja Pemer...</td>\n",
       "      <td>Berdasarkan RKP 2025, aspek apa saja yang diul...</td>\n",
       "      <td>1. Arah Kebijakan Pembangunan:\\n   - Peningkat...</td>\n",
       "    </tr>\n",
       "    <tr>\n",
       "      <th>3</th>\n",
       "      <td>Kebijakan pembangunan pada Rencana Kerja Pemer...</td>\n",
       "      <td>Dalam dokumen RKP tahun 2025, aspek apa saja y...</td>\n",
       "      <td>1. Perubahan Sosial dan Budaya:\\n   - Pengaruh...</td>\n",
       "    </tr>\n",
       "    <tr>\n",
       "      <th>4</th>\n",
       "      <td>Evaluasi Pembangunan Daerah merupakan evaluasi...</td>\n",
       "      <td>Berdasarkan RKP 2025, aspek apa saja yang diul...</td>\n",
       "      <td>1. Tujuan Evaluasi Pembangunan Daerah:\\n   - M...</td>\n",
       "    </tr>\n",
       "    <tr>\n",
       "      <th>...</th>\n",
       "      <td>...</td>\n",
       "      <td>...</td>\n",
       "      <td>...</td>\n",
       "    </tr>\n",
       "    <tr>\n",
       "      <th>114</th>\n",
       "      <td>Pengendalian Pembangunan\\nPengendalian pembang...</td>\n",
       "      <td>Berikan ringkasan pengendalian pembangunan seb...</td>\n",
       "      <td>Pengendalian Pembangunan\\n\\nPengendalian pemb...</td>\n",
       "    </tr>\n",
       "    <tr>\n",
       "      <th>116</th>\n",
       "      <td>Pengendalian Pelaksanaan RKP\\nPengendalian yan...</td>\n",
       "      <td>Berikan ringkasan pengendalian pelaksanaan RKP...</td>\n",
       "      <td>Pengendalian Pelaksanaan RKP\\n\\nPengendalian...</td>\n",
       "    </tr>\n",
       "    <tr>\n",
       "      <th>119</th>\n",
       "      <td>Sistem Informasi Pengendalian Terpadu RKP\\nSis...</td>\n",
       "      <td>Berikan ringkasan terkait sistem informasi pen...</td>\n",
       "      <td>Sistem Informasi Pengendalian Terpadu RKP\\n\\...</td>\n",
       "    </tr>\n",
       "    <tr>\n",
       "      <th>121</th>\n",
       "      <td>Manajemen Risiko Pembangunan Nasional\\nSasaran...</td>\n",
       "      <td>Berikan ringkasan terkait manajemen risiko pem...</td>\n",
       "      <td>Manajemen Risiko Pembangunan Nasional\\n\\nPen...</td>\n",
       "    </tr>\n",
       "    <tr>\n",
       "      <th>125</th>\n",
       "      <td>Tata Kelola Data Pembangunan melalui Satu Data...</td>\n",
       "      <td>Berikan ringkasan terkait tata kelola data pem...</td>\n",
       "      <td>Tata Kelola Data Pembangunan melalui Satu Dat...</td>\n",
       "    </tr>\n",
       "  </tbody>\n",
       "</table>\n",
       "<p>117 rows × 3 columns</p>\n",
       "</div>"
      ],
      "text/plain": [
       "                                               Konteks  \\\n",
       "0    Ketidakpastian global semakin kompleks, diseba...   \n",
       "1    Ketidakpastian global semakin kompleks, diseba...   \n",
       "2    Kebijakan pembangunan pada Rencana Kerja Pemer...   \n",
       "3    Kebijakan pembangunan pada Rencana Kerja Pemer...   \n",
       "4    Evaluasi Pembangunan Daerah merupakan evaluasi...   \n",
       "..                                                 ...   \n",
       "114  Pengendalian Pembangunan\\nPengendalian pembang...   \n",
       "116  Pengendalian Pelaksanaan RKP\\nPengendalian yan...   \n",
       "119  Sistem Informasi Pengendalian Terpadu RKP\\nSis...   \n",
       "121  Manajemen Risiko Pembangunan Nasional\\nSasaran...   \n",
       "125  Tata Kelola Data Pembangunan melalui Satu Data...   \n",
       "\n",
       "                                                Prompt  \\\n",
       "0    Berdasarkan RKP 2025, aspek apa saja yang diul...   \n",
       "1    Dalam dokumen RKP tahun 2025, aspek apa saja y...   \n",
       "2    Berdasarkan RKP 2025, aspek apa saja yang diul...   \n",
       "3    Dalam dokumen RKP tahun 2025, aspek apa saja y...   \n",
       "4    Berdasarkan RKP 2025, aspek apa saja yang diul...   \n",
       "..                                                 ...   \n",
       "114  Berikan ringkasan pengendalian pembangunan seb...   \n",
       "116  Berikan ringkasan pengendalian pelaksanaan RKP...   \n",
       "119  Berikan ringkasan terkait sistem informasi pen...   \n",
       "121  Berikan ringkasan terkait manajemen risiko pem...   \n",
       "125  Berikan ringkasan terkait tata kelola data pem...   \n",
       "\n",
       "                                                Respon  \n",
       "0    1. Ketidakpastian Global:\\n   - Ketidakpastian...  \n",
       "1    1. Digitalisasi dan Teknologi:\\n   - Dampak da...  \n",
       "2    1. Arah Kebijakan Pembangunan:\\n   - Peningkat...  \n",
       "3    1. Perubahan Sosial dan Budaya:\\n   - Pengaruh...  \n",
       "4    1. Tujuan Evaluasi Pembangunan Daerah:\\n   - M...  \n",
       "..                                                 ...  \n",
       "114   Pengendalian Pembangunan\\n\\nPengendalian pemb...  \n",
       "116    Pengendalian Pelaksanaan RKP\\n\\nPengendalian...  \n",
       "119    Sistem Informasi Pengendalian Terpadu RKP\\n\\...  \n",
       "121    Manajemen Risiko Pembangunan Nasional\\n\\nPen...  \n",
       "125   Tata Kelola Data Pembangunan melalui Satu Dat...  \n",
       "\n",
       "[117 rows x 3 columns]"
      ]
     },
     "execution_count": 30,
     "metadata": {},
     "output_type": "execute_result"
    }
   ],
   "source": [
    "a"
   ]
  },
  {
   "cell_type": "code",
   "execution_count": 18,
   "metadata": {},
   "outputs": [
    {
     "name": "stderr",
     "output_type": "stream",
     "text": [
      "C:\\Users\\Rafli\\AppData\\Local\\Temp\\ipykernel_19016\\852030549.py:2: FutureWarning: DataFrame.fillna with 'method' is deprecated and will raise in a future version. Use obj.ffill() or obj.bfill() instead.\n",
      "  df_fill = df.fillna(method='ffill')\n"
     ]
    }
   ],
   "source": [
    "# fill missing values with the value that comes directly after it in the same column\n",
    "df_fill = df.fillna(method='ffill')\n"
   ]
  },
  {
   "cell_type": "code",
   "execution_count": 5,
   "metadata": {},
   "outputs": [],
   "source": [
    "# delete col summary\n",
    "df_fill = df_fill.drop(columns=['SUMMARY/MEANING'])"
   ]
  },
  {
   "cell_type": "code",
   "execution_count": 31,
   "metadata": {},
   "outputs": [],
   "source": [
    "# df_fill\n",
    "# change name of columns\n",
    "\n",
    "df_fill.columns = ['input', 'instruction', 'output']"
   ]
  },
  {
   "cell_type": "code",
   "execution_count": 32,
   "metadata": {},
   "outputs": [
    {
     "data": {
      "text/html": [
       "<div>\n",
       "<style scoped>\n",
       "    .dataframe tbody tr th:only-of-type {\n",
       "        vertical-align: middle;\n",
       "    }\n",
       "\n",
       "    .dataframe tbody tr th {\n",
       "        vertical-align: top;\n",
       "    }\n",
       "\n",
       "    .dataframe thead th {\n",
       "        text-align: right;\n",
       "    }\n",
       "</style>\n",
       "<table border=\"1\" class=\"dataframe\">\n",
       "  <thead>\n",
       "    <tr style=\"text-align: right;\">\n",
       "      <th></th>\n",
       "      <th>input</th>\n",
       "      <th>instruction</th>\n",
       "      <th>output</th>\n",
       "    </tr>\n",
       "  </thead>\n",
       "  <tbody>\n",
       "    <tr>\n",
       "      <th>0</th>\n",
       "      <td>Ketidakpastian global semakin kompleks, diseba...</td>\n",
       "      <td>Berdasarkan RKP 2025, aspek apa saja yang diul...</td>\n",
       "      <td>1. Ketidakpastian Global:\\n   - Ketidakpastian...</td>\n",
       "    </tr>\n",
       "    <tr>\n",
       "      <th>1</th>\n",
       "      <td>Ketidakpastian global semakin kompleks, diseba...</td>\n",
       "      <td>Dalam dokumen RKP tahun 2025, aspek apa saja y...</td>\n",
       "      <td>1. Digitalisasi dan Teknologi:\\n   - Dampak da...</td>\n",
       "    </tr>\n",
       "    <tr>\n",
       "      <th>2</th>\n",
       "      <td>Kebijakan pembangunan pada Rencana Kerja Pemer...</td>\n",
       "      <td>Berdasarkan RKP 2025, aspek apa saja yang diul...</td>\n",
       "      <td>1. Arah Kebijakan Pembangunan:\\n   - Peningkat...</td>\n",
       "    </tr>\n",
       "    <tr>\n",
       "      <th>3</th>\n",
       "      <td>Kebijakan pembangunan pada Rencana Kerja Pemer...</td>\n",
       "      <td>Dalam dokumen RKP tahun 2025, aspek apa saja y...</td>\n",
       "      <td>1. Perubahan Sosial dan Budaya:\\n   - Pengaruh...</td>\n",
       "    </tr>\n",
       "    <tr>\n",
       "      <th>4</th>\n",
       "      <td>Evaluasi Pembangunan Daerah merupakan evaluasi...</td>\n",
       "      <td>Berdasarkan RKP 2025, aspek apa saja yang diul...</td>\n",
       "      <td>1. Tujuan Evaluasi Pembangunan Daerah:\\n   - M...</td>\n",
       "    </tr>\n",
       "    <tr>\n",
       "      <th>...</th>\n",
       "      <td>...</td>\n",
       "      <td>...</td>\n",
       "      <td>...</td>\n",
       "    </tr>\n",
       "    <tr>\n",
       "      <th>114</th>\n",
       "      <td>Pengendalian Pembangunan\\nPengendalian pembang...</td>\n",
       "      <td>Berikan ringkasan pengendalian pembangunan seb...</td>\n",
       "      <td>Pengendalian Pembangunan\\n\\nPengendalian pemb...</td>\n",
       "    </tr>\n",
       "    <tr>\n",
       "      <th>116</th>\n",
       "      <td>Pengendalian Pelaksanaan RKP\\nPengendalian yan...</td>\n",
       "      <td>Berikan ringkasan pengendalian pelaksanaan RKP...</td>\n",
       "      <td>Pengendalian Pelaksanaan RKP\\n\\nPengendalian...</td>\n",
       "    </tr>\n",
       "    <tr>\n",
       "      <th>119</th>\n",
       "      <td>Sistem Informasi Pengendalian Terpadu RKP\\nSis...</td>\n",
       "      <td>Berikan ringkasan terkait sistem informasi pen...</td>\n",
       "      <td>Sistem Informasi Pengendalian Terpadu RKP\\n\\...</td>\n",
       "    </tr>\n",
       "    <tr>\n",
       "      <th>121</th>\n",
       "      <td>Manajemen Risiko Pembangunan Nasional\\nSasaran...</td>\n",
       "      <td>Berikan ringkasan terkait manajemen risiko pem...</td>\n",
       "      <td>Manajemen Risiko Pembangunan Nasional\\n\\nPen...</td>\n",
       "    </tr>\n",
       "    <tr>\n",
       "      <th>125</th>\n",
       "      <td>Tata Kelola Data Pembangunan melalui Satu Data...</td>\n",
       "      <td>Berikan ringkasan terkait tata kelola data pem...</td>\n",
       "      <td>Tata Kelola Data Pembangunan melalui Satu Dat...</td>\n",
       "    </tr>\n",
       "  </tbody>\n",
       "</table>\n",
       "<p>117 rows × 3 columns</p>\n",
       "</div>"
      ],
      "text/plain": [
       "                                                 input  \\\n",
       "0    Ketidakpastian global semakin kompleks, diseba...   \n",
       "1    Ketidakpastian global semakin kompleks, diseba...   \n",
       "2    Kebijakan pembangunan pada Rencana Kerja Pemer...   \n",
       "3    Kebijakan pembangunan pada Rencana Kerja Pemer...   \n",
       "4    Evaluasi Pembangunan Daerah merupakan evaluasi...   \n",
       "..                                                 ...   \n",
       "114  Pengendalian Pembangunan\\nPengendalian pembang...   \n",
       "116  Pengendalian Pelaksanaan RKP\\nPengendalian yan...   \n",
       "119  Sistem Informasi Pengendalian Terpadu RKP\\nSis...   \n",
       "121  Manajemen Risiko Pembangunan Nasional\\nSasaran...   \n",
       "125  Tata Kelola Data Pembangunan melalui Satu Data...   \n",
       "\n",
       "                                           instruction  \\\n",
       "0    Berdasarkan RKP 2025, aspek apa saja yang diul...   \n",
       "1    Dalam dokumen RKP tahun 2025, aspek apa saja y...   \n",
       "2    Berdasarkan RKP 2025, aspek apa saja yang diul...   \n",
       "3    Dalam dokumen RKP tahun 2025, aspek apa saja y...   \n",
       "4    Berdasarkan RKP 2025, aspek apa saja yang diul...   \n",
       "..                                                 ...   \n",
       "114  Berikan ringkasan pengendalian pembangunan seb...   \n",
       "116  Berikan ringkasan pengendalian pelaksanaan RKP...   \n",
       "119  Berikan ringkasan terkait sistem informasi pen...   \n",
       "121  Berikan ringkasan terkait manajemen risiko pem...   \n",
       "125  Berikan ringkasan terkait tata kelola data pem...   \n",
       "\n",
       "                                                output  \n",
       "0    1. Ketidakpastian Global:\\n   - Ketidakpastian...  \n",
       "1    1. Digitalisasi dan Teknologi:\\n   - Dampak da...  \n",
       "2    1. Arah Kebijakan Pembangunan:\\n   - Peningkat...  \n",
       "3    1. Perubahan Sosial dan Budaya:\\n   - Pengaruh...  \n",
       "4    1. Tujuan Evaluasi Pembangunan Daerah:\\n   - M...  \n",
       "..                                                 ...  \n",
       "114   Pengendalian Pembangunan\\n\\nPengendalian pemb...  \n",
       "116    Pengendalian Pelaksanaan RKP\\n\\nPengendalian...  \n",
       "119    Sistem Informasi Pengendalian Terpadu RKP\\n\\...  \n",
       "121    Manajemen Risiko Pembangunan Nasional\\n\\nPen...  \n",
       "125   Tata Kelola Data Pembangunan melalui Satu Dat...  \n",
       "\n",
       "[117 rows x 3 columns]"
      ]
     },
     "execution_count": 32,
     "metadata": {},
     "output_type": "execute_result"
    }
   ],
   "source": [
    "df_fill"
   ]
  },
  {
   "cell_type": "code",
   "execution_count": 33,
   "metadata": {},
   "outputs": [],
   "source": [
    "df_fill.to_csv('data-output/data_RKP25_alpaca.csv', index=False)"
   ]
  },
  {
   "cell_type": "code",
   "execution_count": null,
   "metadata": {},
   "outputs": [],
   "source": []
  },
  {
   "cell_type": "code",
   "execution_count": 36,
   "metadata": {},
   "outputs": [],
   "source": [
    "check = pd.read_csv('data-output/data_RKP25_alpaca.csv')"
   ]
  },
  {
   "cell_type": "code",
   "execution_count": 37,
   "metadata": {},
   "outputs": [
    {
     "data": {
      "text/plain": [
       "117"
      ]
     },
     "execution_count": 37,
     "metadata": {},
     "output_type": "execute_result"
    }
   ],
   "source": [
    "len(check)"
   ]
  }
 ],
 "metadata": {
  "kernelspec": {
   "display_name": "tf",
   "language": "python",
   "name": "python3"
  },
  "language_info": {
   "codemirror_mode": {
    "name": "ipython",
    "version": 3
   },
   "file_extension": ".py",
   "mimetype": "text/x-python",
   "name": "python",
   "nbconvert_exporter": "python",
   "pygments_lexer": "ipython3",
   "version": "3.7.16"
  }
 },
 "nbformat": 4,
 "nbformat_minor": 2
}
